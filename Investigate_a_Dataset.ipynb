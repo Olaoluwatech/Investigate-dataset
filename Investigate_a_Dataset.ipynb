{
 "cells": [
  {
   "cell_type": "markdown",
   "metadata": {},
   "source": [
    "\n",
    "\n",
    "# Project: Hospital Appointment Visitation In Brazil\n",
    "\n",
    "## Table of Contents\n",
    "<ul>\n",
    "    <li><a href=\"#intro\">Introduction</a></li>    \n",
    "    <li><a href=\"#wrangling\">Data Wrangling</a></li>\n",
    "    <li><a href=\"#eda\">Exploratory Data Analysis</a></li>\n",
    "    <li><a href=\"#conclusions\">Conclusions</a></li>\n",
    "</ul>"
   ]
  },
  {
   "cell_type": "markdown",
   "metadata": {},
   "source": [
    "<a id='intro'></a>\n",
    "## Introduction\n",
    "\n",
    "### Dataset Description \n",
    "\n",
    "> This dataset collects information from over 100k medical appointments in Brazil and is focused on the question of whether or not  patients show up for their appointment. A number of characteristics about the patient are included in each row. The columns include;\n",
    "    <ol>\n",
    "        <li>PatientId: Identification of a patient</li>\n",
    "        <li>AppointmentID: Identification of each appointment(3) Gender: Male(M) or Female(F).</li>\n",
    "        <li>Gender: Male(M) or Female(F).</li>\n",
    "        <li>ScheduledDay: The day someone called or registered the appointment.</li>\n",
    "        <li>AppointmentDay: The day of the actual appointment, when they have to visit the doctor</li>\n",
    "        <li>Age: How old is the patient.</li>\n",
    "        <li>Neighbourhood: Where the appointment takes place.</li> \n",
    "        <li>Scholarship: True(1) or False(0) . Indicates whether or not the patient is enrolled in Brasilian welfare program Bolsa Família.</li>\n",
    "        <li>Hipertension: True(1) or False(0).</li>\n",
    "        <li>Diabetes: True(1) or False(0).</li>\n",
    "        <li>Alcoholism: True(1) or False(0).</li>\n",
    "        <li> Handcap: True(1) or False(0).</li>\n",
    "        <li>SMS_received: whether patient received SMS or not. Received(1), Not Received(0).</li>\n",
    "        <li>No-show: yes or no. yes, that is patient did not show up for the appointment while no indicated patient showed up.</li>\n",
    "    </ol>\n",
    "        Learn more about the Bolsa Família program on [Google](https://en.wikipedia.org/wiki/Bolsa_Fam%C3%ADlia).    \n",
    "        Hypertension, diabetes, alcoholism, and handicap are medical conditions.\n",
    "\n",
    "### Questions \n",
    "> **Main question**: What factors are important for us to know in order to predict if a patient will show up for their scheduled appointment? \n",
    "\n",
    ">**sub questions**\\\n",
    "    <ol>\n",
    "        <li>What percentage of patients showed up?</li>\n",
    "        <li>Age Distribution and Relationship with patients showing up for appointment</li>\n",
    "        <li>Gender Distribution and Relationship with patients showing up for appointment</li>\n",
    "        <li>How many patients had scheduled day and appointment day as same? How are they different from those who scheduled day(s) before, in term of showing up for the visit?</li>\n",
    "        <li>How is SMS related to schedule and Appointment days</li>\n",
    "        <li>Relationship between neighbourhoods and showing up for apponitment</li>\n",
    "        <li>Relationship between schoolarship and showing up for apponitment</li>\n",
    "        <li>Relationship between disease and showing up for apponitment</li>\n",
    "        <li>Relationship between recieving sms and showing up for apponitment</li>\n",
    "    </ol>    "
   ]
  },
  {
   "cell_type": "code",
   "execution_count": 173,
   "metadata": {},
   "outputs": [],
   "source": [
    "#import packages\n",
    "import numpy as np\n",
    "import pandas as pd\n",
    "import matplotlib.pyplot as plt\n",
    "import seaborn as sns\n",
    "%matplotlib inline"
   ]
  },
  {
   "cell_type": "markdown",
   "metadata": {},
   "source": [
    "<a id='wrangling'></a>\n",
    "## Data Wrangling\n",
    "\n",
    "> This include;\n",
    "    <ul>\n",
    "        <li>Loading the data</li>\n",
    "        <li>Assessing the data for cleanliness</li>\n",
    "        <li>Data cleaning</li>\n",
    "    </ul>\n",
    "    \n",
    "### Load Data"
   ]
  },
  {
   "cell_type": "code",
   "execution_count": 174,
   "metadata": {
    "scrolled": false
   },
   "outputs": [
    {
     "data": {
      "text/html": [
       "<div>\n",
       "<style scoped>\n",
       "    .dataframe tbody tr th:only-of-type {\n",
       "        vertical-align: middle;\n",
       "    }\n",
       "\n",
       "    .dataframe tbody tr th {\n",
       "        vertical-align: top;\n",
       "    }\n",
       "\n",
       "    .dataframe thead th {\n",
       "        text-align: right;\n",
       "    }\n",
       "</style>\n",
       "<table border=\"1\" class=\"dataframe\">\n",
       "  <thead>\n",
       "    <tr style=\"text-align: right;\">\n",
       "      <th></th>\n",
       "      <th>PatientId</th>\n",
       "      <th>AppointmentID</th>\n",
       "      <th>Gender</th>\n",
       "      <th>ScheduledDay</th>\n",
       "      <th>AppointmentDay</th>\n",
       "      <th>Age</th>\n",
       "      <th>Neighbourhood</th>\n",
       "      <th>Scholarship</th>\n",
       "      <th>Hipertension</th>\n",
       "      <th>Diabetes</th>\n",
       "      <th>Alcoholism</th>\n",
       "      <th>Handcap</th>\n",
       "      <th>SMS_received</th>\n",
       "      <th>No-show</th>\n",
       "    </tr>\n",
       "  </thead>\n",
       "  <tbody>\n",
       "    <tr>\n",
       "      <th>0</th>\n",
       "      <td>2.987250e+13</td>\n",
       "      <td>5642903</td>\n",
       "      <td>F</td>\n",
       "      <td>2016-04-29T18:38:08Z</td>\n",
       "      <td>2016-04-29T00:00:00Z</td>\n",
       "      <td>62</td>\n",
       "      <td>JARDIM DA PENHA</td>\n",
       "      <td>0</td>\n",
       "      <td>1</td>\n",
       "      <td>0</td>\n",
       "      <td>0</td>\n",
       "      <td>0</td>\n",
       "      <td>0</td>\n",
       "      <td>No</td>\n",
       "    </tr>\n",
       "    <tr>\n",
       "      <th>1</th>\n",
       "      <td>5.589978e+14</td>\n",
       "      <td>5642503</td>\n",
       "      <td>M</td>\n",
       "      <td>2016-04-29T16:08:27Z</td>\n",
       "      <td>2016-04-29T00:00:00Z</td>\n",
       "      <td>56</td>\n",
       "      <td>JARDIM DA PENHA</td>\n",
       "      <td>0</td>\n",
       "      <td>0</td>\n",
       "      <td>0</td>\n",
       "      <td>0</td>\n",
       "      <td>0</td>\n",
       "      <td>0</td>\n",
       "      <td>No</td>\n",
       "    </tr>\n",
       "    <tr>\n",
       "      <th>2</th>\n",
       "      <td>4.262962e+12</td>\n",
       "      <td>5642549</td>\n",
       "      <td>F</td>\n",
       "      <td>2016-04-29T16:19:04Z</td>\n",
       "      <td>2016-04-29T00:00:00Z</td>\n",
       "      <td>62</td>\n",
       "      <td>MATA DA PRAIA</td>\n",
       "      <td>0</td>\n",
       "      <td>0</td>\n",
       "      <td>0</td>\n",
       "      <td>0</td>\n",
       "      <td>0</td>\n",
       "      <td>0</td>\n",
       "      <td>No</td>\n",
       "    </tr>\n",
       "  </tbody>\n",
       "</table>\n",
       "</div>"
      ],
      "text/plain": [
       "      PatientId  AppointmentID Gender          ScheduledDay  \\\n",
       "0  2.987250e+13        5642903      F  2016-04-29T18:38:08Z   \n",
       "1  5.589978e+14        5642503      M  2016-04-29T16:08:27Z   \n",
       "2  4.262962e+12        5642549      F  2016-04-29T16:19:04Z   \n",
       "\n",
       "         AppointmentDay  Age    Neighbourhood  Scholarship  Hipertension  \\\n",
       "0  2016-04-29T00:00:00Z   62  JARDIM DA PENHA            0             1   \n",
       "1  2016-04-29T00:00:00Z   56  JARDIM DA PENHA            0             0   \n",
       "2  2016-04-29T00:00:00Z   62    MATA DA PRAIA            0             0   \n",
       "\n",
       "   Diabetes  Alcoholism  Handcap  SMS_received No-show  \n",
       "0         0           0        0             0      No  \n",
       "1         0           0        0             0      No  \n",
       "2         0           0        0             0      No  "
      ]
     },
     "execution_count": 174,
     "metadata": {},
     "output_type": "execute_result"
    }
   ],
   "source": [
    "# Loading the data and printing out the first 3 lines.\n",
    "df = pd.read_csv('noshowappointments-kagglev2-may-2016.csv')\n",
    "df.head(3)"
   ]
  },
  {
   "cell_type": "markdown",
   "metadata": {},
   "source": [
    "### Assessing The Data"
   ]
  },
  {
   "cell_type": "code",
   "execution_count": 175,
   "metadata": {},
   "outputs": [
    {
     "data": {
      "text/plain": [
       "Index(['PatientId', 'AppointmentID', 'Gender', 'ScheduledDay',\n",
       "       'AppointmentDay', 'Age', 'Neighbourhood', 'Scholarship', 'Hipertension',\n",
       "       'Diabetes', 'Alcoholism', 'Handcap', 'SMS_received', 'No-show'],\n",
       "      dtype='object')"
      ]
     },
     "execution_count": 175,
     "metadata": {},
     "output_type": "execute_result"
    }
   ],
   "source": [
    "#checking the column names\n",
    "df.columns"
   ]
  },
  {
   "cell_type": "code",
   "execution_count": 176,
   "metadata": {},
   "outputs": [
    {
     "data": {
      "text/plain": [
       "(110527, 14)"
      ]
     },
     "execution_count": 176,
     "metadata": {},
     "output_type": "execute_result"
    }
   ],
   "source": [
    "# checking the number of rows and columns\n",
    "df.shape"
   ]
  },
  {
   "cell_type": "code",
   "execution_count": 177,
   "metadata": {},
   "outputs": [
    {
     "data": {
      "text/plain": [
       "0"
      ]
     },
     "execution_count": 177,
     "metadata": {},
     "output_type": "execute_result"
    }
   ],
   "source": [
    "#Checking for duplicated data\n",
    "sum(df.duplicated())"
   ]
  },
  {
   "cell_type": "code",
   "execution_count": 178,
   "metadata": {},
   "outputs": [
    {
     "data": {
      "text/plain": [
       "False"
      ]
     },
     "execution_count": 178,
     "metadata": {},
     "output_type": "execute_result"
    }
   ],
   "source": [
    "# checking for null values\n",
    "df.isnull().sum().any()"
   ]
  },
  {
   "cell_type": "code",
   "execution_count": 179,
   "metadata": {},
   "outputs": [
    {
     "data": {
      "text/plain": [
       "PatientId         float64\n",
       "AppointmentID       int64\n",
       "Gender             object\n",
       "ScheduledDay       object\n",
       "AppointmentDay     object\n",
       "Age                 int64\n",
       "Neighbourhood      object\n",
       "Scholarship         int64\n",
       "Hipertension        int64\n",
       "Diabetes            int64\n",
       "Alcoholism          int64\n",
       "Handcap             int64\n",
       "SMS_received        int64\n",
       "No-show            object\n",
       "dtype: object"
      ]
     },
     "execution_count": 179,
     "metadata": {},
     "output_type": "execute_result"
    }
   ],
   "source": [
    "#checking for the data types\n",
    "df.dtypes"
   ]
  },
  {
   "cell_type": "code",
   "execution_count": 180,
   "metadata": {},
   "outputs": [
    {
     "data": {
      "text/plain": [
       "PatientId          62299\n",
       "AppointmentID     110527\n",
       "Gender                 2\n",
       "ScheduledDay      103549\n",
       "AppointmentDay        27\n",
       "Age                  104\n",
       "Neighbourhood         81\n",
       "Scholarship            2\n",
       "Hipertension           2\n",
       "Diabetes               2\n",
       "Alcoholism             2\n",
       "Handcap                5\n",
       "SMS_received           2\n",
       "No-show                2\n",
       "dtype: int64"
      ]
     },
     "execution_count": 180,
     "metadata": {},
     "output_type": "execute_result"
    }
   ],
   "source": [
    "# Checking for the number of unique value in each column\n",
    "df.nunique()"
   ]
  },
  {
   "cell_type": "code",
   "execution_count": 181,
   "metadata": {},
   "outputs": [
    {
     "data": {
      "text/plain": [
       "array([0, 1, 2, 3, 4], dtype=int64)"
      ]
     },
     "execution_count": 181,
     "metadata": {},
     "output_type": "execute_result"
    }
   ],
   "source": [
    "# checking for the unique value in Handicap because it was meant to be 2 and not 5\n",
    "df['Handcap'].unique()"
   ]
  },
  {
   "cell_type": "code",
   "execution_count": 182,
   "metadata": {},
   "outputs": [
    {
     "data": {
      "text/plain": [
       "0    108286\n",
       "1      2042\n",
       "2       183\n",
       "3        13\n",
       "4         3\n",
       "Name: Handcap, dtype: int64"
      ]
     },
     "execution_count": 182,
     "metadata": {},
     "output_type": "execute_result"
    }
   ],
   "source": [
    "# Checking the counts of 2,3,4 to know if the columns is redemable\n",
    "df['Handcap'].value_counts()"
   ]
  },
  {
   "cell_type": "code",
   "execution_count": 183,
   "metadata": {},
   "outputs": [
    {
     "data": {
      "text/html": [
       "<div>\n",
       "<style scoped>\n",
       "    .dataframe tbody tr th:only-of-type {\n",
       "        vertical-align: middle;\n",
       "    }\n",
       "\n",
       "    .dataframe tbody tr th {\n",
       "        vertical-align: top;\n",
       "    }\n",
       "\n",
       "    .dataframe thead th {\n",
       "        text-align: right;\n",
       "    }\n",
       "</style>\n",
       "<table border=\"1\" class=\"dataframe\">\n",
       "  <thead>\n",
       "    <tr style=\"text-align: right;\">\n",
       "      <th></th>\n",
       "      <th>PatientId</th>\n",
       "      <th>AppointmentID</th>\n",
       "      <th>Age</th>\n",
       "      <th>Scholarship</th>\n",
       "      <th>Hipertension</th>\n",
       "      <th>Diabetes</th>\n",
       "      <th>Alcoholism</th>\n",
       "      <th>Handcap</th>\n",
       "      <th>SMS_received</th>\n",
       "    </tr>\n",
       "  </thead>\n",
       "  <tbody>\n",
       "    <tr>\n",
       "      <th>count</th>\n",
       "      <td>1.105270e+05</td>\n",
       "      <td>1.105270e+05</td>\n",
       "      <td>110527.000000</td>\n",
       "      <td>110527.000000</td>\n",
       "      <td>110527.000000</td>\n",
       "      <td>110527.000000</td>\n",
       "      <td>110527.000000</td>\n",
       "      <td>110527.000000</td>\n",
       "      <td>110527.000000</td>\n",
       "    </tr>\n",
       "    <tr>\n",
       "      <th>mean</th>\n",
       "      <td>1.474963e+14</td>\n",
       "      <td>5.675305e+06</td>\n",
       "      <td>37.088874</td>\n",
       "      <td>0.098266</td>\n",
       "      <td>0.197246</td>\n",
       "      <td>0.071865</td>\n",
       "      <td>0.030400</td>\n",
       "      <td>0.022248</td>\n",
       "      <td>0.321026</td>\n",
       "    </tr>\n",
       "    <tr>\n",
       "      <th>std</th>\n",
       "      <td>2.560949e+14</td>\n",
       "      <td>7.129575e+04</td>\n",
       "      <td>23.110205</td>\n",
       "      <td>0.297675</td>\n",
       "      <td>0.397921</td>\n",
       "      <td>0.258265</td>\n",
       "      <td>0.171686</td>\n",
       "      <td>0.161543</td>\n",
       "      <td>0.466873</td>\n",
       "    </tr>\n",
       "    <tr>\n",
       "      <th>min</th>\n",
       "      <td>3.921784e+04</td>\n",
       "      <td>5.030230e+06</td>\n",
       "      <td>-1.000000</td>\n",
       "      <td>0.000000</td>\n",
       "      <td>0.000000</td>\n",
       "      <td>0.000000</td>\n",
       "      <td>0.000000</td>\n",
       "      <td>0.000000</td>\n",
       "      <td>0.000000</td>\n",
       "    </tr>\n",
       "    <tr>\n",
       "      <th>25%</th>\n",
       "      <td>4.172614e+12</td>\n",
       "      <td>5.640286e+06</td>\n",
       "      <td>18.000000</td>\n",
       "      <td>0.000000</td>\n",
       "      <td>0.000000</td>\n",
       "      <td>0.000000</td>\n",
       "      <td>0.000000</td>\n",
       "      <td>0.000000</td>\n",
       "      <td>0.000000</td>\n",
       "    </tr>\n",
       "    <tr>\n",
       "      <th>50%</th>\n",
       "      <td>3.173184e+13</td>\n",
       "      <td>5.680573e+06</td>\n",
       "      <td>37.000000</td>\n",
       "      <td>0.000000</td>\n",
       "      <td>0.000000</td>\n",
       "      <td>0.000000</td>\n",
       "      <td>0.000000</td>\n",
       "      <td>0.000000</td>\n",
       "      <td>0.000000</td>\n",
       "    </tr>\n",
       "    <tr>\n",
       "      <th>75%</th>\n",
       "      <td>9.439172e+13</td>\n",
       "      <td>5.725524e+06</td>\n",
       "      <td>55.000000</td>\n",
       "      <td>0.000000</td>\n",
       "      <td>0.000000</td>\n",
       "      <td>0.000000</td>\n",
       "      <td>0.000000</td>\n",
       "      <td>0.000000</td>\n",
       "      <td>1.000000</td>\n",
       "    </tr>\n",
       "    <tr>\n",
       "      <th>max</th>\n",
       "      <td>9.999816e+14</td>\n",
       "      <td>5.790484e+06</td>\n",
       "      <td>115.000000</td>\n",
       "      <td>1.000000</td>\n",
       "      <td>1.000000</td>\n",
       "      <td>1.000000</td>\n",
       "      <td>1.000000</td>\n",
       "      <td>4.000000</td>\n",
       "      <td>1.000000</td>\n",
       "    </tr>\n",
       "  </tbody>\n",
       "</table>\n",
       "</div>"
      ],
      "text/plain": [
       "          PatientId  AppointmentID            Age    Scholarship  \\\n",
       "count  1.105270e+05   1.105270e+05  110527.000000  110527.000000   \n",
       "mean   1.474963e+14   5.675305e+06      37.088874       0.098266   \n",
       "std    2.560949e+14   7.129575e+04      23.110205       0.297675   \n",
       "min    3.921784e+04   5.030230e+06      -1.000000       0.000000   \n",
       "25%    4.172614e+12   5.640286e+06      18.000000       0.000000   \n",
       "50%    3.173184e+13   5.680573e+06      37.000000       0.000000   \n",
       "75%    9.439172e+13   5.725524e+06      55.000000       0.000000   \n",
       "max    9.999816e+14   5.790484e+06     115.000000       1.000000   \n",
       "\n",
       "        Hipertension       Diabetes     Alcoholism        Handcap  \\\n",
       "count  110527.000000  110527.000000  110527.000000  110527.000000   \n",
       "mean        0.197246       0.071865       0.030400       0.022248   \n",
       "std         0.397921       0.258265       0.171686       0.161543   \n",
       "min         0.000000       0.000000       0.000000       0.000000   \n",
       "25%         0.000000       0.000000       0.000000       0.000000   \n",
       "50%         0.000000       0.000000       0.000000       0.000000   \n",
       "75%         0.000000       0.000000       0.000000       0.000000   \n",
       "max         1.000000       1.000000       1.000000       4.000000   \n",
       "\n",
       "        SMS_received  \n",
       "count  110527.000000  \n",
       "mean        0.321026  \n",
       "std         0.466873  \n",
       "min         0.000000  \n",
       "25%         0.000000  \n",
       "50%         0.000000  \n",
       "75%         1.000000  \n",
       "max         1.000000  "
      ]
     },
     "execution_count": 183,
     "metadata": {},
     "output_type": "execute_result"
    }
   ],
   "source": [
    "# summary statistics of the data\n",
    "df.describe()"
   ]
  },
  {
   "cell_type": "markdown",
   "metadata": {},
   "source": [
    "> **Observations**: The patient and appointment identification numbers are not required in answering the research questions. The column names; 'Hypertension' and 'Handicap' were wrongly spelt. 'Scholarship','SMS_received' and 'No-show' are inappropriate names for the respective columns. There are 110527 rows and 14 columns in this dataset, and there are no duplicated or missing values.  The scheduled and appointment days are in string format instead of datetime. The Handicap column has 5 unique values instead of 2 (i.e True(1) or False(0) ), as specified at  [Kaggle](https://www.kaggle.com/datasets/joniarroba/noshowappointments). The minimum age is -1 and this is impossible. Both mean and median age are about 37years."
   ]
  },
  {
   "cell_type": "code",
   "execution_count": null,
   "metadata": {},
   "outputs": [],
   "source": []
  },
  {
   "cell_type": "markdown",
   "metadata": {},
   "source": [
    "### Data Cleaning "
   ]
  },
  {
   "cell_type": "code",
   "execution_count": 184,
   "metadata": {},
   "outputs": [
    {
     "data": {
      "text/plain": [
       "Index(['Gender', 'ScheduledDay', 'AppointmentDay', 'Age', 'Neighbourhood',\n",
       "       'Scholarship', 'Hipertension', 'Diabetes', 'Alcoholism', 'Handcap',\n",
       "       'SMS_received', 'No-show'],\n",
       "      dtype='object')"
      ]
     },
     "execution_count": 184,
     "metadata": {},
     "output_type": "execute_result"
    }
   ],
   "source": [
    "#Firstly, dropping columns for reasons specified in the observations above\n",
    "df.drop(['PatientId', 'AppointmentID'], axis=1, inplace=True)\n",
    "df.columns"
   ]
  },
  {
   "cell_type": "code",
   "execution_count": 185,
   "metadata": {},
   "outputs": [
    {
     "data": {
      "text/plain": [
       "Index(['Gender', 'ScheduledDay', 'AppointmentDay', 'Age', 'Neighbourhood',\n",
       "       'BolsaFamília', 'Hypertension', 'Diabetes', 'Alcoholism', 'Handicap',\n",
       "       'SMS', 'Appointment'],\n",
       "      dtype='object')"
      ]
     },
     "execution_count": 185,
     "metadata": {},
     "output_type": "execute_result"
    }
   ],
   "source": [
    "#secondly, remaning columns\n",
    "df = df.rename(columns={'Scholarship': 'BolsaFamília',\n",
    "                        'Hipertension': 'Hypertension',\n",
    "                        'Handcap': 'Handicap',\n",
    "                        'SMS_received': 'SMS',\n",
    "                        'No-show': 'Appointment'})\n",
    "\n",
    "#confirm changes \n",
    "df.columns"
   ]
  },
  {
   "cell_type": "code",
   "execution_count": 186,
   "metadata": {},
   "outputs": [
    {
     "data": {
      "text/plain": [
       "array([0, 1], dtype=int64)"
      ]
     },
     "execution_count": 186,
     "metadata": {},
     "output_type": "execute_result"
    }
   ],
   "source": [
    "df = df.query('Handicap == 0 or Handicap == 1')\n",
    "df['Handicap'].unique()"
   ]
  },
  {
   "cell_type": "code",
   "execution_count": 188,
   "metadata": {},
   "outputs": [
    {
     "data": {
      "text/plain": [
       "array(['Visited', 'Absconded'], dtype=object)"
      ]
     },
     "execution_count": 188,
     "metadata": {},
     "output_type": "execute_result"
    }
   ],
   "source": [
    "# changing the 0 and 1 in the disease columns\n",
    "df['Hypertension'] = df['Hypertension'].replace([0,1],['Not HTN', 'HTN'])\n",
    "df['Diabetes'] = df['Diabetes'].replace([0,1],['Not DM', 'DM'])\n",
    "df['Alcoholism'] = df['Alcoholism'].replace([0,1],['Not Alcoholic', 'Alcoholic'])\n",
    "df['Handicap'] = df['Handicap'].replace([0,1],['Not Handicapped', 'Handicapped'])\n",
    "\n",
    "# change other 0 and 1\n",
    "df['BolsaFamília'] = df['BolsaFamília'].replace([0,1],['Not Enrolled', 'Enrolled'])\n",
    "df['SMS'] = df['SMS'].replace([0,1],['Not Received', 'Received'])\n",
    "\n",
    "# change the 'No' and Yes to 'Visited' and 'Absconded' in the Appointment column\n",
    "df['Appointment'] = df['Appointment'].replace(['No', 'Yes'],['Visited','Absconded'])\n",
    "\n",
    "#confirm changes\n",
    "df['Appointment'].unique()"
   ]
  },
  {
   "cell_type": "markdown",
   "metadata": {},
   "source": [
    "> **Reasons**: The disease condition columns(Hypertesion, Diabetes, Alcoholism and Handicap) would have be added together to form a new column. This new column would have revealed patients with more than one medical conditions, and it would have been used to compare those who showed up and those who did not, based on the number of medical conditions. However, Handicap has been deleted, the remaing columns cannot be added because some patients who were only Handicapped will have zero disease condition in the new column, and those with other disease and were also handicapped would not be well represented in the new column. Since the integer format is no longer valuable and string will be easier to deal with, its better to convert. HTN and DM are abbreviations for Hypertion and Diabetic Mellitus respectively. Visited and Absconded sound more appropriate than the No and Yes in represiting those who showed up and did not, on the appointment day."
   ]
  },
  {
   "cell_type": "code",
   "execution_count": 82,
   "metadata": {},
   "outputs": [
    {
     "data": {
      "text/plain": [
       "ScheduledDay      datetime64[ns]\n",
       "AppointmentDay    datetime64[ns]\n",
       "dtype: object"
      ]
     },
     "execution_count": 82,
     "metadata": {},
     "output_type": "execute_result"
    }
   ],
   "source": [
    "#Use the function lambda to avoid repeatitiveness\n",
    "# Remove the time part of the datetime first, not required for this analysis\n",
    "df[['ScheduledDay','AppointmentDay']] = df[['ScheduledDay','AppointmentDay']].apply(lambda x: x.str.slice(stop=10))\n",
    "\n",
    "#coverting from string to date\n",
    "df[['ScheduledDay','AppointmentDay']] = df[['ScheduledDay','AppointmentDay']].astype('datetime64[ns]')\n",
    "\n",
    "#confirm changes\n",
    "df[['ScheduledDay','AppointmentDay']].dtypes"
   ]
  },
  {
   "cell_type": "code",
   "execution_count": 83,
   "metadata": {},
   "outputs": [
    {
     "data": {
      "text/plain": [
       "count    110527.000000\n",
       "mean         37.089219\n",
       "std          23.109921\n",
       "min           0.000000\n",
       "25%          18.000000\n",
       "50%          37.000000\n",
       "75%          55.000000\n",
       "max         115.000000\n",
       "Name: Age, dtype: float64"
      ]
     },
     "execution_count": 83,
     "metadata": {},
     "output_type": "execute_result"
    }
   ],
   "source": [
    "# Replace the -1 with the mean age\n",
    "MeanAge = df.Age.mean()\n",
    "df['Age'] = df['Age'].replace({-1: MeanAge})\n",
    "\n",
    "#confirm changes\n",
    "df['Age'].describe()"
   ]
  },
  {
   "cell_type": "code",
   "execution_count": 84,
   "metadata": {},
   "outputs": [
    {
     "data": {
      "text/html": [
       "<div>\n",
       "<style scoped>\n",
       "    .dataframe tbody tr th:only-of-type {\n",
       "        vertical-align: middle;\n",
       "    }\n",
       "\n",
       "    .dataframe tbody tr th {\n",
       "        vertical-align: top;\n",
       "    }\n",
       "\n",
       "    .dataframe thead th {\n",
       "        text-align: right;\n",
       "    }\n",
       "</style>\n",
       "<table border=\"1\" class=\"dataframe\">\n",
       "  <thead>\n",
       "    <tr style=\"text-align: right;\">\n",
       "      <th></th>\n",
       "      <th>Gender</th>\n",
       "      <th>ScheduledDay</th>\n",
       "      <th>AppointmentDay</th>\n",
       "      <th>Age</th>\n",
       "      <th>Neighbourhood</th>\n",
       "      <th>BolsaFamília</th>\n",
       "      <th>Hypertension</th>\n",
       "      <th>Diabetes</th>\n",
       "      <th>Alcoholism</th>\n",
       "      <th>SMS</th>\n",
       "      <th>Appointment</th>\n",
       "    </tr>\n",
       "  </thead>\n",
       "  <tbody>\n",
       "    <tr>\n",
       "      <th>0</th>\n",
       "      <td>F</td>\n",
       "      <td>2016-04-29</td>\n",
       "      <td>2016-04-29</td>\n",
       "      <td>62.0</td>\n",
       "      <td>JARDIM DA PENHA</td>\n",
       "      <td>Not Enrolled</td>\n",
       "      <td>HTN</td>\n",
       "      <td>Not DM</td>\n",
       "      <td>Not Alcoholic</td>\n",
       "      <td>Not Received</td>\n",
       "      <td>Visited</td>\n",
       "    </tr>\n",
       "    <tr>\n",
       "      <th>1</th>\n",
       "      <td>M</td>\n",
       "      <td>2016-04-29</td>\n",
       "      <td>2016-04-29</td>\n",
       "      <td>56.0</td>\n",
       "      <td>JARDIM DA PENHA</td>\n",
       "      <td>Not Enrolled</td>\n",
       "      <td>Not HTN</td>\n",
       "      <td>Not DM</td>\n",
       "      <td>Not Alcoholic</td>\n",
       "      <td>Not Received</td>\n",
       "      <td>Visited</td>\n",
       "    </tr>\n",
       "  </tbody>\n",
       "</table>\n",
       "</div>"
      ],
      "text/plain": [
       "  Gender ScheduledDay AppointmentDay   Age    Neighbourhood  BolsaFamília  \\\n",
       "0      F   2016-04-29     2016-04-29  62.0  JARDIM DA PENHA  Not Enrolled   \n",
       "1      M   2016-04-29     2016-04-29  56.0  JARDIM DA PENHA  Not Enrolled   \n",
       "\n",
       "  Hypertension Diabetes     Alcoholism           SMS Appointment  \n",
       "0          HTN   Not DM  Not Alcoholic  Not Received     Visited  \n",
       "1      Not HTN   Not DM  Not Alcoholic  Not Received     Visited  "
      ]
     },
     "execution_count": 84,
     "metadata": {},
     "output_type": "execute_result"
    }
   ],
   "source": [
    "# Checking out how the table looks\n",
    "df.head(2)"
   ]
  },
  {
   "cell_type": "markdown",
   "metadata": {},
   "source": [
    "<a id='eda'></a>\n",
    "## Exploratory Data Analysis\n",
    "\n",
    "### Question 1: What percentage of patients showed up?"
   ]
  },
  {
   "cell_type": "code",
   "execution_count": 189,
   "metadata": {},
   "outputs": [
    {
     "data": {
      "text/plain": [
       "Visited      79.8\n",
       "Absconded    20.2\n",
       "Name: Appointment, dtype: float64"
      ]
     },
     "execution_count": 189,
     "metadata": {},
     "output_type": "execute_result"
    }
   ],
   "source": [
    "#percentage that showed up\n",
    "PerShow = df['Appointment'].value_counts()/df['Appointment'].count()*100\n",
    "PerShow.round(1)"
   ]
  },
  {
   "cell_type": "markdown",
   "metadata": {},
   "source": [
    "> About 80% of the patients showed up for the appointment."
   ]
  },
  {
   "cell_type": "code",
   "execution_count": null,
   "metadata": {},
   "outputs": [],
   "source": []
  },
  {
   "cell_type": "markdown",
   "metadata": {},
   "source": [
    " ### Question 2: Age Distribution and Relationship with patients showing up for appointment"
   ]
  },
  {
   "cell_type": "code",
   "execution_count": 86,
   "metadata": {},
   "outputs": [
    {
     "data": {
      "image/png": "[encoded data removed]",
      "text/plain": [
       "<Figure size 504x504 with 1 Axes>"
      ]
     },
     "metadata": {
      "needs_background": "light"
     },
     "output_type": "display_data"
    }
   ],
   "source": [
    "# Histogram of age distribution only, because it is the only continuous variable in the dataset\n",
    "df.Age.hist(figsize=(7,7))\n",
    "\n",
    "#chart labels\n",
    "plt.xlabel('Age (years)', fontsize=13);\n",
    "plt.ylabel('Frequency', fontsize=13)\n",
    "plt.title('Age Distribution of Patients in Brazil Hospitals', fontsize=15);"
   ]
  },
  {
   "cell_type": "code",
   "execution_count": 87,
   "metadata": {},
   "outputs": [
    {
     "data": {
      "text/html": [
       "<div>\n",
       "<style scoped>\n",
       "    .dataframe tbody tr th:only-of-type {\n",
       "        vertical-align: middle;\n",
       "    }\n",
       "\n",
       "    .dataframe tbody tr th {\n",
       "        vertical-align: top;\n",
       "    }\n",
       "\n",
       "    .dataframe thead th {\n",
       "        text-align: right;\n",
       "    }\n",
       "</style>\n",
       "<table border=\"1\" class=\"dataframe\">\n",
       "  <thead>\n",
       "    <tr style=\"text-align: right;\">\n",
       "      <th>Appointment</th>\n",
       "      <th>Absconded</th>\n",
       "      <th>Visited</th>\n",
       "    </tr>\n",
       "    <tr>\n",
       "      <th>AgeGroup</th>\n",
       "      <th></th>\n",
       "      <th></th>\n",
       "    </tr>\n",
       "  </thead>\n",
       "  <tbody>\n",
       "    <tr>\n",
       "      <th>0-20</th>\n",
       "      <td>6457</td>\n",
       "      <td>21852</td>\n",
       "    </tr>\n",
       "    <tr>\n",
       "      <th>21-40</th>\n",
       "      <td>6626</td>\n",
       "      <td>22210</td>\n",
       "    </tr>\n",
       "    <tr>\n",
       "      <th>41-60</th>\n",
       "      <td>5591</td>\n",
       "      <td>24490</td>\n",
       "    </tr>\n",
       "    <tr>\n",
       "      <th>61-80</th>\n",
       "      <td>2537</td>\n",
       "      <td>14373</td>\n",
       "    </tr>\n",
       "    <tr>\n",
       "      <th>81-100</th>\n",
       "      <td>466</td>\n",
       "      <td>2379</td>\n",
       "    </tr>\n",
       "    <tr>\n",
       "      <th>101-120</th>\n",
       "      <td>3</td>\n",
       "      <td>4</td>\n",
       "    </tr>\n",
       "  </tbody>\n",
       "</table>\n",
       "</div>"
      ],
      "text/plain": [
       "Appointment  Absconded  Visited\n",
       "AgeGroup                       \n",
       "0-20              6457    21852\n",
       "21-40             6626    22210\n",
       "41-60             5591    24490\n",
       "61-80             2537    14373\n",
       "81-100             466     2379\n",
       "101-120              3        4"
      ]
     },
     "execution_count": 87,
     "metadata": {},
     "output_type": "execute_result"
    }
   ],
   "source": [
    "# create a new column, age group, by converting the age into categories \n",
    "# let classwidth be 20, just as it is in the histogram above\n",
    "Agebin = [0,20,40,60,80,100,120]\n",
    "AgeLabels = ['0-20','21-40','41-60','61-80','81-100','101-120']\n",
    "df['AgeGroup'] = pd.cut(df['Age'], bins=Agebin, labels=AgeLabels)\n",
    "\n",
    "# Then, Count the number of scheduled appointment that was honoured \n",
    "# and those that were not honoured by the patients, based on the age group\n",
    "AgegrpCounts = df.groupby(['AgeGroup', 'Appointment'])['Age'].count()\n",
    "AgegrpCounts.unstack()"
   ]
  },
  {
   "cell_type": "code",
   "execution_count": 88,
   "metadata": {},
   "outputs": [
    {
     "data": {
      "text/html": [
       "<div>\n",
       "<style scoped>\n",
       "    .dataframe tbody tr th:only-of-type {\n",
       "        vertical-align: middle;\n",
       "    }\n",
       "\n",
       "    .dataframe tbody tr th {\n",
       "        vertical-align: top;\n",
       "    }\n",
       "\n",
       "    .dataframe thead th {\n",
       "        text-align: right;\n",
       "    }\n",
       "</style>\n",
       "<table border=\"1\" class=\"dataframe\">\n",
       "  <thead>\n",
       "    <tr style=\"text-align: right;\">\n",
       "      <th>Appointment</th>\n",
       "      <th>Absconded</th>\n",
       "      <th>Visited</th>\n",
       "    </tr>\n",
       "    <tr>\n",
       "      <th>AgeGroup</th>\n",
       "      <th></th>\n",
       "      <th></th>\n",
       "    </tr>\n",
       "  </thead>\n",
       "  <tbody>\n",
       "    <tr>\n",
       "      <th>0-20</th>\n",
       "      <td>22.8</td>\n",
       "      <td>77.2</td>\n",
       "    </tr>\n",
       "    <tr>\n",
       "      <th>21-40</th>\n",
       "      <td>23.0</td>\n",
       "      <td>77.0</td>\n",
       "    </tr>\n",
       "    <tr>\n",
       "      <th>41-60</th>\n",
       "      <td>18.6</td>\n",
       "      <td>81.4</td>\n",
       "    </tr>\n",
       "    <tr>\n",
       "      <th>61-80</th>\n",
       "      <td>15.0</td>\n",
       "      <td>85.0</td>\n",
       "    </tr>\n",
       "    <tr>\n",
       "      <th>81-100</th>\n",
       "      <td>16.4</td>\n",
       "      <td>83.6</td>\n",
       "    </tr>\n",
       "    <tr>\n",
       "      <th>101-120</th>\n",
       "      <td>42.9</td>\n",
       "      <td>57.1</td>\n",
       "    </tr>\n",
       "  </tbody>\n",
       "</table>\n",
       "</div>"
      ],
      "text/plain": [
       "Appointment  Absconded  Visited\n",
       "AgeGroup                       \n",
       "0-20              22.8     77.2\n",
       "21-40             23.0     77.0\n",
       "41-60             18.6     81.4\n",
       "61-80             15.0     85.0\n",
       "81-100            16.4     83.6\n",
       "101-120           42.9     57.1"
      ]
     },
     "execution_count": 88,
     "metadata": {},
     "output_type": "execute_result"
    }
   ],
   "source": [
    "# calculate the percentage of scheduled appointment that was honoured \n",
    "# and also those that were not honoured by the patients based on the age group\n",
    "AgegrpPer = AgegrpCounts/df.groupby(['AgeGroup'])['Age'].count()*100\n",
    "AgegrpPer.unstack().round(1)"
   ]
  },
  {
   "cell_type": "code",
   "execution_count": 89,
   "metadata": {},
   "outputs": [
    {
     "data": {
      "image/png": "[encoded data removed]",
      "text/plain": [
       "<Figure size 576x576 with 1 Axes>"
      ]
     },
     "metadata": {
      "needs_background": "light"
     },
     "output_type": "display_data"
    }
   ],
   "source": [
    "# plot a double bar chart showing compliance to appointment by age group\n",
    "AgegrpPer.unstack().plot(kind='bar', figsize=(8,8));\n",
    "\n",
    "# chart labels\n",
    "plt.xlabel('Age Groups', fontsize=15);\n",
    "plt.ylabel('Percentage', fontsize=15)\n",
    "plt.title('Age Groups and Showing Up for Appointments', fontsize=13);\n",
    "location = [0,1,2,3,4,5]\n",
    "labels = ['0-20','21-40','41-60','61-80','81-100','101-120']\n",
    "plt.xticks(location, labels, rotation=0);"
   ]
  },
  {
   "cell_type": "markdown",
   "metadata": {},
   "source": [
    ">**Age Report** The positively skewed histogram showed that, age 0 to 10 has the highest number of patients followed by 50 to 60, while age group 100 to 120 has the lowest. The tables above, showed the number and the percentage of scheduled appointments that was honoured and those that were not honoured by the patients, based on their age groups. Over 75% of the patients in each of the age groups visited the doctor on their appoitment days except for those older than 100 years, where only about 57% of the patients showed up in the hospitals. The to total number of patients between 100-120 years are just 7, this may be too small to make comparism with other age groups."
   ]
  },
  {
   "cell_type": "code",
   "execution_count": null,
   "metadata": {},
   "outputs": [],
   "source": []
  },
  {
   "cell_type": "markdown",
   "metadata": {},
   "source": [
    "### Question 3: Gender Distribution and Relationship with patients showing up for appointment"
   ]
  },
  {
   "cell_type": "code",
   "execution_count": 90,
   "metadata": {},
   "outputs": [
    {
     "data": {
      "text/plain": [
       "F    65.0\n",
       "M    35.0\n",
       "Name: Gender, dtype: float64"
      ]
     },
     "execution_count": 90,
     "metadata": {},
     "output_type": "execute_result"
    }
   ],
   "source": [
    "# Determine the percentage of the patients by gender\n",
    "GenderPer = df['Gender'].value_counts()/df['Gender'].count()*100\n",
    "GenderPer.round(1)"
   ]
  },
  {
   "cell_type": "code",
   "execution_count": 91,
   "metadata": {},
   "outputs": [
    {
     "data": {
      "image/png": "[encoded data removed]",
      "text/plain": [
       "<Figure size 504x504 with 1 Axes>"
      ]
     },
     "metadata": {
      "needs_background": "light"
     },
     "output_type": "display_data"
    }
   ],
   "source": [
    "# plot a simple bar chart for the gender distibution\n",
    "GenderPer.plot(kind='bar', figsize=(7,7));\n",
    "\n",
    "# chart labels\n",
    "plt.xlabel('Gender', fontsize=15);\n",
    "plt.ylabel('Percentage', fontsize=15)\n",
    "plt.title('Gender Distribution of Patients in Brazil Hospitals', fontsize=15);\n",
    "location = [0,1]\n",
    "labels = ['Female', 'Male']\n",
    "plt.xticks(location, labels, rotation=0);"
   ]
  },
  {
   "cell_type": "code",
   "execution_count": 190,
   "metadata": {},
   "outputs": [
    {
     "data": {
      "text/html": [
       "<div>\n",
       "<style scoped>\n",
       "    .dataframe tbody tr th:only-of-type {\n",
       "        vertical-align: middle;\n",
       "    }\n",
       "\n",
       "    .dataframe tbody tr th {\n",
       "        vertical-align: top;\n",
       "    }\n",
       "\n",
       "    .dataframe thead th {\n",
       "        text-align: right;\n",
       "    }\n",
       "</style>\n",
       "<table border=\"1\" class=\"dataframe\">\n",
       "  <thead>\n",
       "    <tr style=\"text-align: right;\">\n",
       "      <th>Appointment</th>\n",
       "      <th>Absconded</th>\n",
       "      <th>Visited</th>\n",
       "    </tr>\n",
       "    <tr>\n",
       "      <th>Gender</th>\n",
       "      <th></th>\n",
       "      <th></th>\n",
       "    </tr>\n",
       "  </thead>\n",
       "  <tbody>\n",
       "    <tr>\n",
       "      <th>F</th>\n",
       "      <td>20.3</td>\n",
       "      <td>79.7</td>\n",
       "    </tr>\n",
       "    <tr>\n",
       "      <th>M</th>\n",
       "      <td>20.0</td>\n",
       "      <td>80.0</td>\n",
       "    </tr>\n",
       "  </tbody>\n",
       "</table>\n",
       "</div>"
      ],
      "text/plain": [
       "Appointment  Absconded  Visited\n",
       "Gender                         \n",
       "F                 20.3     79.7\n",
       "M                 20.0     80.0"
      ]
     },
     "execution_count": 190,
     "metadata": {},
     "output_type": "execute_result"
    }
   ],
   "source": [
    "# calculate the percentage of patients who showed up and absconded based on gender\n",
    "PerByGender = df.groupby(['Gender', 'Appointment'])['Age'].count()/df.groupby(['Gender'])['Age'].count()*100\n",
    "PerByGender.unstack().round(1)"
   ]
  },
  {
   "cell_type": "code",
   "execution_count": 93,
   "metadata": {},
   "outputs": [
    {
     "data": {
      "image/png": "[encoded data removed]",
      "text/plain": [
       "<Figure size 576x576 with 1 Axes>"
      ]
     },
     "metadata": {
      "needs_background": "light"
     },
     "output_type": "display_data"
    }
   ],
   "source": [
    "# plot a double bar chart showing those who showed up and absconded based on gender\n",
    "PerByGender.unstack().plot(kind='bar', figsize=(8,8));\n",
    "\n",
    "# chart labels\n",
    "plt.xlabel('Gender', fontsize=15);\n",
    "plt.ylabel('Frequency', fontsize=15)\n",
    "plt.title('Gender and Showing Up for Appointments', fontsize=13);\n",
    "location = [0,1]\n",
    "labels = ['Female', 'Male']\n",
    "plt.xticks(location, labels, rotation=0)\n",
    "\n",
    "plt.show()"
   ]
  },
  {
   "cell_type": "markdown",
   "metadata": {},
   "source": [
    ">**Gender Result**: About sixty-five percent of all the patients were females as shown in the table and the simple bar chart above, however about 80% of each gender group showed up for their appointments as shown in the crosstable and double bar chart above. "
   ]
  },
  {
   "cell_type": "code",
   "execution_count": null,
   "metadata": {},
   "outputs": [],
   "source": []
  },
  {
   "cell_type": "markdown",
   "metadata": {},
   "source": [
    "### Question 4. How many patients had their scheduled day and appointment day as same? How are they different from those whose scheduled day was before the appoinment day, in term of showing up for the appointment?"
   ]
  },
  {
   "cell_type": "code",
   "execution_count": 94,
   "metadata": {},
   "outputs": [
    {
     "data": {
      "text/plain": [
       "Not Same Day    65.1\n",
       "Same Day        34.9\n",
       "Name: Days, dtype: float64"
      ]
     },
     "execution_count": 94,
     "metadata": {},
     "output_type": "execute_result"
    }
   ],
   "source": [
    "# create a new column that match the schedule day to the appointment day\n",
    "df['Days'] = np.where(df['ScheduledDay'] == df['AppointmentDay'],'Same Day', 'Not Same Day')\n",
    "\n",
    "# calculate the percentage of days where schedule day and appointment day were the same\n",
    "EqualDays = df['Days'].value_counts()/df['Days'].count()*100\n",
    "EqualDays.round(1)"
   ]
  },
  {
   "cell_type": "code",
   "execution_count": 95,
   "metadata": {},
   "outputs": [
    {
     "data": {
      "text/html": [
       "<div>\n",
       "<style scoped>\n",
       "    .dataframe tbody tr th:only-of-type {\n",
       "        vertical-align: middle;\n",
       "    }\n",
       "\n",
       "    .dataframe tbody tr th {\n",
       "        vertical-align: top;\n",
       "    }\n",
       "\n",
       "    .dataframe thead th {\n",
       "        text-align: right;\n",
       "    }\n",
       "</style>\n",
       "<table border=\"1\" class=\"dataframe\">\n",
       "  <thead>\n",
       "    <tr style=\"text-align: right;\">\n",
       "      <th>Appointment</th>\n",
       "      <th>Absconded</th>\n",
       "      <th>Visited</th>\n",
       "    </tr>\n",
       "    <tr>\n",
       "      <th>Days</th>\n",
       "      <th></th>\n",
       "      <th></th>\n",
       "    </tr>\n",
       "  </thead>\n",
       "  <tbody>\n",
       "    <tr>\n",
       "      <th>Not Same Day</th>\n",
       "      <td>28.5</td>\n",
       "      <td>71.5</td>\n",
       "    </tr>\n",
       "    <tr>\n",
       "      <th>Same Day</th>\n",
       "      <td>4.6</td>\n",
       "      <td>95.4</td>\n",
       "    </tr>\n",
       "  </tbody>\n",
       "</table>\n",
       "</div>"
      ],
      "text/plain": [
       "Appointment   Absconded  Visited\n",
       "Days                            \n",
       "Not Same Day       28.5     71.5\n",
       "Same Day            4.6     95.4"
      ]
     },
     "execution_count": 95,
     "metadata": {},
     "output_type": "execute_result"
    }
   ],
   "source": [
    "# calculate the percentage for showing for appointment by days\n",
    "DayCounts = df.groupby(['Days', 'Appointment'])['Age'].count()\n",
    "AllDay = df.groupby(['Days'])['Age'].count()\n",
    "DaysPer = DayCounts/AllDay*100\n",
    "\n",
    "#confirm calculation\n",
    "DaysPer.unstack().round(1)"
   ]
  },
  {
   "cell_type": "code",
   "execution_count": 96,
   "metadata": {},
   "outputs": [
    {
     "data": {
      "image/png": "[encoded data removed]",
      "text/plain": [
       "<Figure size 576x576 with 1 Axes>"
      ]
     },
     "metadata": {
      "needs_background": "light"
     },
     "output_type": "display_data"
    }
   ],
   "source": [
    "# bar chart of days of appointment and showing up\n",
    "DaysPer.unstack().plot(kind='bar', figsize=(8,8));\n",
    "\n",
    "#chart labels\n",
    "plt.xlabel('Scheldule and Appoinment Day', fontsize=15);\n",
    "plt.ylabel('Percentage', fontsize=15)\n",
    "plt.title('Days of Appointment and Showing Up', fontsize=13);\n",
    "location = [0,1]\n",
    "labels = ['Not Same Day', 'Same Day']\n",
    "plt.xticks(location, labels, rotation=0)\n",
    "\n",
    "plt.show();"
   ]
  },
  {
   "cell_type": "markdown",
   "metadata": {},
   "source": [
    "> **Days Result**: Only about 34.9% of the appointment day was same day as the schedule day, however over 95% of such appointments were honoured as compared to 71.5% among those appointments scheduled day(s) before the visitation."
   ]
  },
  {
   "cell_type": "code",
   "execution_count": null,
   "metadata": {},
   "outputs": [],
   "source": []
  },
  {
   "cell_type": "markdown",
   "metadata": {},
   "source": [
    "### Question 5: How is SMS related to schedule and  Appointment days"
   ]
  },
  {
   "cell_type": "code",
   "execution_count": 97,
   "metadata": {},
   "outputs": [
    {
     "data": {
      "text/plain": [
       "Days          SMS         \n",
       "Not Same Day  Not Received     50.7\n",
       "              Received         49.3\n",
       "Same Day      Not Received    100.0\n",
       "Name: Age, dtype: float64"
      ]
     },
     "execution_count": 97,
     "metadata": {},
     "output_type": "execute_result"
    }
   ],
   "source": [
    "# what Percentage of patients whose schedule and appointment days are different, received SMS?\n",
    "PerSMSDays = df.groupby(['Days', 'SMS'])['Age'].count()/df.groupby(['Days'])['Age'].count()*100\n",
    "PerSMSDays.round(1)"
   ]
  },
  {
   "cell_type": "markdown",
   "metadata": {},
   "source": [
    "> Only 49.3% of patients who schedule their appointments day(s) before the appointment day received SMS and none of those who schedule their appointments on the appointment day received SMS."
   ]
  },
  {
   "cell_type": "code",
   "execution_count": null,
   "metadata": {},
   "outputs": [],
   "source": []
  },
  {
   "cell_type": "markdown",
   "metadata": {},
   "source": [
    "### Question 6: Relationship between neighbourhoods and showing up for apponitment?"
   ]
  },
  {
   "cell_type": "code",
   "execution_count": 98,
   "metadata": {},
   "outputs": [
    {
     "data": {
      "text/html": [
       "<div>\n",
       "<style scoped>\n",
       "    .dataframe tbody tr th:only-of-type {\n",
       "        vertical-align: middle;\n",
       "    }\n",
       "\n",
       "    .dataframe tbody tr th {\n",
       "        vertical-align: top;\n",
       "    }\n",
       "\n",
       "    .dataframe thead th {\n",
       "        text-align: right;\n",
       "    }\n",
       "</style>\n",
       "<table border=\"1\" class=\"dataframe\">\n",
       "  <thead>\n",
       "    <tr style=\"text-align: right;\">\n",
       "      <th>Neighbourhood</th>\n",
       "      <th>AEROPORTO</th>\n",
       "      <th>ANDORINHAS</th>\n",
       "      <th>ANTÔNIO HONÓRIO</th>\n",
       "      <th>ARIOVALDO FAVALESSA</th>\n",
       "      <th>BARRO VERMELHO</th>\n",
       "      <th>BELA VISTA</th>\n",
       "      <th>BENTO FERREIRA</th>\n",
       "      <th>BOA VISTA</th>\n",
       "      <th>BONFIM</th>\n",
       "      <th>CARATOÍRA</th>\n",
       "      <th>CENTRO</th>\n",
       "      <th>COMDUSA</th>\n",
       "      <th>CONQUISTA</th>\n",
       "      <th>CONSOLAÇÃO</th>\n",
       "      <th>CRUZAMENTO</th>\n",
       "      <th>DA PENHA</th>\n",
       "      <th>DE LOURDES</th>\n",
       "      <th>DO CABRAL</th>\n",
       "      <th>DO MOSCOSO</th>\n",
       "      <th>DO QUADRO</th>\n",
       "      <th>ENSEADA DO SUÁ</th>\n",
       "      <th>ESTRELINHA</th>\n",
       "      <th>FONTE GRANDE</th>\n",
       "      <th>FORTE SÃO JOÃO</th>\n",
       "      <th>FRADINHOS</th>\n",
       "      <th>GOIABEIRAS</th>\n",
       "      <th>GRANDE VITÓRIA</th>\n",
       "      <th>GURIGICA</th>\n",
       "      <th>HORTO</th>\n",
       "      <th>ILHA DAS CAIEIRAS</th>\n",
       "      <th>ILHA DE SANTA MARIA</th>\n",
       "      <th>ILHA DO BOI</th>\n",
       "      <th>ILHA DO FRADE</th>\n",
       "      <th>ILHA DO PRÍNCIPE</th>\n",
       "      <th>ILHAS OCEÂNICAS DE TRINDADE</th>\n",
       "      <th>INHANGUETÁ</th>\n",
       "      <th>ITARARÉ</th>\n",
       "      <th>JABOUR</th>\n",
       "      <th>JARDIM CAMBURI</th>\n",
       "      <th>JARDIM DA PENHA</th>\n",
       "      <th>JESUS DE NAZARETH</th>\n",
       "      <th>JOANA D´ARC</th>\n",
       "      <th>JUCUTUQUARA</th>\n",
       "      <th>MARIA ORTIZ</th>\n",
       "      <th>MARUÍPE</th>\n",
       "      <th>MATA DA PRAIA</th>\n",
       "      <th>MONTE BELO</th>\n",
       "      <th>MORADA DE CAMBURI</th>\n",
       "      <th>MÁRIO CYPRESTE</th>\n",
       "      <th>NAZARETH</th>\n",
       "      <th>NOVA PALESTINA</th>\n",
       "      <th>PARQUE INDUSTRIAL</th>\n",
       "      <th>PARQUE MOSCOSO</th>\n",
       "      <th>PIEDADE</th>\n",
       "      <th>PONTAL DE CAMBURI</th>\n",
       "      <th>PRAIA DO CANTO</th>\n",
       "      <th>PRAIA DO SUÁ</th>\n",
       "      <th>REDENÇÃO</th>\n",
       "      <th>REPÚBLICA</th>\n",
       "      <th>RESISTÊNCIA</th>\n",
       "      <th>ROMÃO</th>\n",
       "      <th>SANTA CECÍLIA</th>\n",
       "      <th>SANTA CLARA</th>\n",
       "      <th>SANTA HELENA</th>\n",
       "      <th>SANTA LUÍZA</th>\n",
       "      <th>SANTA LÚCIA</th>\n",
       "      <th>SANTA MARTHA</th>\n",
       "      <th>SANTA TEREZA</th>\n",
       "      <th>SANTO ANDRÉ</th>\n",
       "      <th>SANTO ANTÔNIO</th>\n",
       "      <th>SANTOS DUMONT</th>\n",
       "      <th>SANTOS REIS</th>\n",
       "      <th>SEGURANÇA DO LAR</th>\n",
       "      <th>SOLON BORGES</th>\n",
       "      <th>SÃO BENEDITO</th>\n",
       "      <th>SÃO CRISTÓVÃO</th>\n",
       "      <th>SÃO JOSÉ</th>\n",
       "      <th>SÃO PEDRO</th>\n",
       "      <th>TABUAZEIRO</th>\n",
       "      <th>UNIVERSITÁRIO</th>\n",
       "      <th>VILA RUBIM</th>\n",
       "    </tr>\n",
       "    <tr>\n",
       "      <th>Appointment</th>\n",
       "      <th></th>\n",
       "      <th></th>\n",
       "      <th></th>\n",
       "      <th></th>\n",
       "      <th></th>\n",
       "      <th></th>\n",
       "      <th></th>\n",
       "      <th></th>\n",
       "      <th></th>\n",
       "      <th></th>\n",
       "      <th></th>\n",
       "      <th></th>\n",
       "      <th></th>\n",
       "      <th></th>\n",
       "      <th></th>\n",
       "      <th></th>\n",
       "      <th></th>\n",
       "      <th></th>\n",
       "      <th></th>\n",
       "      <th></th>\n",
       "      <th></th>\n",
       "      <th></th>\n",
       "      <th></th>\n",
       "      <th></th>\n",
       "      <th></th>\n",
       "      <th></th>\n",
       "      <th></th>\n",
       "      <th></th>\n",
       "      <th></th>\n",
       "      <th></th>\n",
       "      <th></th>\n",
       "      <th></th>\n",
       "      <th></th>\n",
       "      <th></th>\n",
       "      <th></th>\n",
       "      <th></th>\n",
       "      <th></th>\n",
       "      <th></th>\n",
       "      <th></th>\n",
       "      <th></th>\n",
       "      <th></th>\n",
       "      <th></th>\n",
       "      <th></th>\n",
       "      <th></th>\n",
       "      <th></th>\n",
       "      <th></th>\n",
       "      <th></th>\n",
       "      <th></th>\n",
       "      <th></th>\n",
       "      <th></th>\n",
       "      <th></th>\n",
       "      <th></th>\n",
       "      <th></th>\n",
       "      <th></th>\n",
       "      <th></th>\n",
       "      <th></th>\n",
       "      <th></th>\n",
       "      <th></th>\n",
       "      <th></th>\n",
       "      <th></th>\n",
       "      <th></th>\n",
       "      <th></th>\n",
       "      <th></th>\n",
       "      <th></th>\n",
       "      <th></th>\n",
       "      <th></th>\n",
       "      <th></th>\n",
       "      <th></th>\n",
       "      <th></th>\n",
       "      <th></th>\n",
       "      <th></th>\n",
       "      <th></th>\n",
       "      <th></th>\n",
       "      <th></th>\n",
       "      <th></th>\n",
       "      <th></th>\n",
       "      <th></th>\n",
       "      <th></th>\n",
       "      <th></th>\n",
       "      <th></th>\n",
       "      <th></th>\n",
       "    </tr>\n",
       "  </thead>\n",
       "  <tbody>\n",
       "    <tr>\n",
       "      <th>Absconded</th>\n",
       "      <td>1.0</td>\n",
       "      <td>521.0</td>\n",
       "      <td>50.0</td>\n",
       "      <td>62.0</td>\n",
       "      <td>91.0</td>\n",
       "      <td>384.0</td>\n",
       "      <td>193.0</td>\n",
       "      <td>58.0</td>\n",
       "      <td>550.0</td>\n",
       "      <td>591.0</td>\n",
       "      <td>703.0</td>\n",
       "      <td>56.0</td>\n",
       "      <td>160.0</td>\n",
       "      <td>237.0</td>\n",
       "      <td>304.0</td>\n",
       "      <td>429.0</td>\n",
       "      <td>47.0</td>\n",
       "      <td>88.0</td>\n",
       "      <td>92.0</td>\n",
       "      <td>140.0</td>\n",
       "      <td>52.0</td>\n",
       "      <td>106.0</td>\n",
       "      <td>149.0</td>\n",
       "      <td>346.0</td>\n",
       "      <td>48.0</td>\n",
       "      <td>137.0</td>\n",
       "      <td>217.0</td>\n",
       "      <td>456.0</td>\n",
       "      <td>42.0</td>\n",
       "      <td>235.0</td>\n",
       "      <td>361.0</td>\n",
       "      <td>3.0</td>\n",
       "      <td>2.0</td>\n",
       "      <td>532.0</td>\n",
       "      <td>2.0</td>\n",
       "      <td>202.0</td>\n",
       "      <td>923.0</td>\n",
       "      <td>451.0</td>\n",
       "      <td>1465.0</td>\n",
       "      <td>631.0</td>\n",
       "      <td>696.0</td>\n",
       "      <td>258.0</td>\n",
       "      <td>133.0</td>\n",
       "      <td>1219.0</td>\n",
       "      <td>424.0</td>\n",
       "      <td>110.0</td>\n",
       "      <td>166.0</td>\n",
       "      <td>16.0</td>\n",
       "      <td>54.0</td>\n",
       "      <td>29.0</td>\n",
       "      <td>402.0</td>\n",
       "      <td>NaN</td>\n",
       "      <td>179.0</td>\n",
       "      <td>88.0</td>\n",
       "      <td>12.0</td>\n",
       "      <td>190.0</td>\n",
       "      <td>294.0</td>\n",
       "      <td>275.0</td>\n",
       "      <td>143.0</td>\n",
       "      <td>906.0</td>\n",
       "      <td>474.0</td>\n",
       "      <td>123.0</td>\n",
       "      <td>134.0</td>\n",
       "      <td>37.0</td>\n",
       "      <td>77.0</td>\n",
       "      <td>86.0</td>\n",
       "      <td>496.0</td>\n",
       "      <td>272.0</td>\n",
       "      <td>508.0</td>\n",
       "      <td>484.0</td>\n",
       "      <td>369.0</td>\n",
       "      <td>112.0</td>\n",
       "      <td>28.0</td>\n",
       "      <td>69.0</td>\n",
       "      <td>287.0</td>\n",
       "      <td>363.0</td>\n",
       "      <td>428.0</td>\n",
       "      <td>515.0</td>\n",
       "      <td>573.0</td>\n",
       "      <td>32.0</td>\n",
       "      <td>141.0</td>\n",
       "    </tr>\n",
       "    <tr>\n",
       "      <th>Visited</th>\n",
       "      <td>7.0</td>\n",
       "      <td>1741.0</td>\n",
       "      <td>221.0</td>\n",
       "      <td>220.0</td>\n",
       "      <td>332.0</td>\n",
       "      <td>1523.0</td>\n",
       "      <td>665.0</td>\n",
       "      <td>254.0</td>\n",
       "      <td>2223.0</td>\n",
       "      <td>1974.0</td>\n",
       "      <td>2631.0</td>\n",
       "      <td>254.0</td>\n",
       "      <td>689.0</td>\n",
       "      <td>1139.0</td>\n",
       "      <td>1094.0</td>\n",
       "      <td>1788.0</td>\n",
       "      <td>258.0</td>\n",
       "      <td>472.0</td>\n",
       "      <td>321.0</td>\n",
       "      <td>709.0</td>\n",
       "      <td>183.0</td>\n",
       "      <td>432.0</td>\n",
       "      <td>533.0</td>\n",
       "      <td>1543.0</td>\n",
       "      <td>210.0</td>\n",
       "      <td>563.0</td>\n",
       "      <td>854.0</td>\n",
       "      <td>1562.0</td>\n",
       "      <td>133.0</td>\n",
       "      <td>836.0</td>\n",
       "      <td>1524.0</td>\n",
       "      <td>32.0</td>\n",
       "      <td>8.0</td>\n",
       "      <td>1734.0</td>\n",
       "      <td>NaN</td>\n",
       "      <td>855.0</td>\n",
       "      <td>2591.0</td>\n",
       "      <td>2058.0</td>\n",
       "      <td>6252.0</td>\n",
       "      <td>3246.0</td>\n",
       "      <td>2157.0</td>\n",
       "      <td>1169.0</td>\n",
       "      <td>561.0</td>\n",
       "      <td>4586.0</td>\n",
       "      <td>1478.0</td>\n",
       "      <td>534.0</td>\n",
       "      <td>658.0</td>\n",
       "      <td>80.0</td>\n",
       "      <td>317.0</td>\n",
       "      <td>106.0</td>\n",
       "      <td>1862.0</td>\n",
       "      <td>1.0</td>\n",
       "      <td>623.0</td>\n",
       "      <td>364.0</td>\n",
       "      <td>57.0</td>\n",
       "      <td>845.0</td>\n",
       "      <td>994.0</td>\n",
       "      <td>1278.0</td>\n",
       "      <td>692.0</td>\n",
       "      <td>3525.0</td>\n",
       "      <td>1741.0</td>\n",
       "      <td>325.0</td>\n",
       "      <td>372.0</td>\n",
       "      <td>141.0</td>\n",
       "      <td>351.0</td>\n",
       "      <td>352.0</td>\n",
       "      <td>2635.0</td>\n",
       "      <td>1060.0</td>\n",
       "      <td>2063.0</td>\n",
       "      <td>2262.0</td>\n",
       "      <td>907.0</td>\n",
       "      <td>435.0</td>\n",
       "      <td>117.0</td>\n",
       "      <td>400.0</td>\n",
       "      <td>1152.0</td>\n",
       "      <td>1473.0</td>\n",
       "      <td>1549.0</td>\n",
       "      <td>1933.0</td>\n",
       "      <td>2559.0</td>\n",
       "      <td>120.0</td>\n",
       "      <td>710.0</td>\n",
       "    </tr>\n",
       "  </tbody>\n",
       "</table>\n",
       "</div>"
      ],
      "text/plain": [
       "Neighbourhood  AEROPORTO  ANDORINHAS  ANTÔNIO HONÓRIO  ARIOVALDO FAVALESSA  \\\n",
       "Appointment                                                                  \n",
       "Absconded            1.0       521.0             50.0                 62.0   \n",
       "Visited              7.0      1741.0            221.0                220.0   \n",
       "\n",
       "Neighbourhood  BARRO VERMELHO  BELA VISTA  BENTO FERREIRA  BOA VISTA  BONFIM  \\\n",
       "Appointment                                                                    \n",
       "Absconded                91.0       384.0           193.0       58.0   550.0   \n",
       "Visited                 332.0      1523.0           665.0      254.0  2223.0   \n",
       "\n",
       "Neighbourhood  CARATOÍRA  CENTRO  COMDUSA  CONQUISTA  CONSOLAÇÃO  CRUZAMENTO  \\\n",
       "Appointment                                                                    \n",
       "Absconded          591.0   703.0     56.0      160.0       237.0       304.0   \n",
       "Visited           1974.0  2631.0    254.0      689.0      1139.0      1094.0   \n",
       "\n",
       "Neighbourhood  DA PENHA  DE LOURDES  DO CABRAL  DO MOSCOSO  DO QUADRO  \\\n",
       "Appointment                                                             \n",
       "Absconded         429.0        47.0       88.0        92.0      140.0   \n",
       "Visited          1788.0       258.0      472.0       321.0      709.0   \n",
       "\n",
       "Neighbourhood  ENSEADA DO SUÁ  ESTRELINHA  FONTE GRANDE  FORTE SÃO JOÃO  \\\n",
       "Appointment                                                               \n",
       "Absconded                52.0       106.0         149.0           346.0   \n",
       "Visited                 183.0       432.0         533.0          1543.0   \n",
       "\n",
       "Neighbourhood  FRADINHOS  GOIABEIRAS  GRANDE VITÓRIA  GURIGICA  HORTO  \\\n",
       "Appointment                                                             \n",
       "Absconded           48.0       137.0           217.0     456.0   42.0   \n",
       "Visited            210.0       563.0           854.0    1562.0  133.0   \n",
       "\n",
       "Neighbourhood  ILHA DAS CAIEIRAS  ILHA DE SANTA MARIA  ILHA DO BOI  \\\n",
       "Appointment                                                          \n",
       "Absconded                  235.0                361.0          3.0   \n",
       "Visited                    836.0               1524.0         32.0   \n",
       "\n",
       "Neighbourhood  ILHA DO FRADE  ILHA DO PRÍNCIPE  ILHAS OCEÂNICAS DE TRINDADE  \\\n",
       "Appointment                                                                   \n",
       "Absconded                2.0             532.0                          2.0   \n",
       "Visited                  8.0            1734.0                          NaN   \n",
       "\n",
       "Neighbourhood  INHANGUETÁ  ITARARÉ  JABOUR  JARDIM CAMBURI  JARDIM DA PENHA  \\\n",
       "Appointment                                                                   \n",
       "Absconded           202.0    923.0   451.0          1465.0            631.0   \n",
       "Visited             855.0   2591.0  2058.0          6252.0           3246.0   \n",
       "\n",
       "Neighbourhood  JESUS DE NAZARETH  JOANA D´ARC  JUCUTUQUARA  MARIA ORTIZ  \\\n",
       "Appointment                                                               \n",
       "Absconded                  696.0        258.0        133.0       1219.0   \n",
       "Visited                   2157.0       1169.0        561.0       4586.0   \n",
       "\n",
       "Neighbourhood  MARUÍPE  MATA DA PRAIA  MONTE BELO  MORADA DE CAMBURI  \\\n",
       "Appointment                                                            \n",
       "Absconded        424.0          110.0       166.0               16.0   \n",
       "Visited         1478.0          534.0       658.0               80.0   \n",
       "\n",
       "Neighbourhood  MÁRIO CYPRESTE  NAZARETH  NOVA PALESTINA  PARQUE INDUSTRIAL  \\\n",
       "Appointment                                                                  \n",
       "Absconded                54.0      29.0           402.0                NaN   \n",
       "Visited                 317.0     106.0          1862.0                1.0   \n",
       "\n",
       "Neighbourhood  PARQUE MOSCOSO  PIEDADE  PONTAL DE CAMBURI  PRAIA DO CANTO  \\\n",
       "Appointment                                                                 \n",
       "Absconded               179.0     88.0               12.0           190.0   \n",
       "Visited                 623.0    364.0               57.0           845.0   \n",
       "\n",
       "Neighbourhood  PRAIA DO SUÁ  REDENÇÃO  REPÚBLICA  RESISTÊNCIA   ROMÃO  \\\n",
       "Appointment                                                             \n",
       "Absconded             294.0     275.0      143.0        906.0   474.0   \n",
       "Visited               994.0    1278.0      692.0       3525.0  1741.0   \n",
       "\n",
       "Neighbourhood  SANTA CECÍLIA  SANTA CLARA  SANTA HELENA  SANTA LUÍZA  \\\n",
       "Appointment                                                            \n",
       "Absconded              123.0        134.0          37.0         77.0   \n",
       "Visited                325.0        372.0         141.0        351.0   \n",
       "\n",
       "Neighbourhood  SANTA LÚCIA  SANTA MARTHA  SANTA TEREZA  SANTO ANDRÉ  \\\n",
       "Appointment                                                           \n",
       "Absconded             86.0         496.0         272.0        508.0   \n",
       "Visited              352.0        2635.0        1060.0       2063.0   \n",
       "\n",
       "Neighbourhood  SANTO ANTÔNIO  SANTOS DUMONT  SANTOS REIS  SEGURANÇA DO LAR  \\\n",
       "Appointment                                                                  \n",
       "Absconded              484.0          369.0        112.0              28.0   \n",
       "Visited               2262.0          907.0        435.0             117.0   \n",
       "\n",
       "Neighbourhood  SOLON BORGES  SÃO BENEDITO  SÃO CRISTÓVÃO  SÃO JOSÉ  SÃO PEDRO  \\\n",
       "Appointment                                                                     \n",
       "Absconded              69.0         287.0          363.0     428.0      515.0   \n",
       "Visited               400.0        1152.0         1473.0    1549.0     1933.0   \n",
       "\n",
       "Neighbourhood  TABUAZEIRO  UNIVERSITÁRIO  VILA RUBIM  \n",
       "Appointment                                           \n",
       "Absconded           573.0           32.0       141.0  \n",
       "Visited            2559.0          120.0       710.0  "
      ]
     },
     "execution_count": 98,
     "metadata": {},
     "output_type": "execute_result"
    }
   ],
   "source": [
    "# count of numbers of patients that showed up and did not, by the location of the hospitals.\n",
    "# Swap the axes and dispaly all the columns to make it easier for readers\n",
    "pd.set_option('display.max_columns', None)\n",
    "HospLocCounts = df.groupby(['Neighbourhood', 'Appointment'])['Age'].count()\n",
    "HospLocCounts.unstack().swapaxes('index','columns')"
   ]
  },
  {
   "cell_type": "code",
   "execution_count": 99,
   "metadata": {},
   "outputs": [
    {
     "data": {
      "text/html": [
       "<div>\n",
       "<style scoped>\n",
       "    .dataframe tbody tr th:only-of-type {\n",
       "        vertical-align: middle;\n",
       "    }\n",
       "\n",
       "    .dataframe tbody tr th {\n",
       "        vertical-align: top;\n",
       "    }\n",
       "\n",
       "    .dataframe thead th {\n",
       "        text-align: right;\n",
       "    }\n",
       "</style>\n",
       "<table border=\"1\" class=\"dataframe\">\n",
       "  <thead>\n",
       "    <tr style=\"text-align: right;\">\n",
       "      <th>Neighbourhood</th>\n",
       "      <th>AEROPORTO</th>\n",
       "      <th>ANDORINHAS</th>\n",
       "      <th>ANTÔNIO HONÓRIO</th>\n",
       "      <th>ARIOVALDO FAVALESSA</th>\n",
       "      <th>BARRO VERMELHO</th>\n",
       "      <th>BELA VISTA</th>\n",
       "      <th>BENTO FERREIRA</th>\n",
       "      <th>BOA VISTA</th>\n",
       "      <th>BONFIM</th>\n",
       "      <th>CARATOÍRA</th>\n",
       "      <th>CENTRO</th>\n",
       "      <th>COMDUSA</th>\n",
       "      <th>CONQUISTA</th>\n",
       "      <th>CONSOLAÇÃO</th>\n",
       "      <th>CRUZAMENTO</th>\n",
       "      <th>DA PENHA</th>\n",
       "      <th>DE LOURDES</th>\n",
       "      <th>DO CABRAL</th>\n",
       "      <th>DO MOSCOSO</th>\n",
       "      <th>DO QUADRO</th>\n",
       "      <th>ENSEADA DO SUÁ</th>\n",
       "      <th>ESTRELINHA</th>\n",
       "      <th>FONTE GRANDE</th>\n",
       "      <th>FORTE SÃO JOÃO</th>\n",
       "      <th>FRADINHOS</th>\n",
       "      <th>GOIABEIRAS</th>\n",
       "      <th>GRANDE VITÓRIA</th>\n",
       "      <th>GURIGICA</th>\n",
       "      <th>HORTO</th>\n",
       "      <th>ILHA DAS CAIEIRAS</th>\n",
       "      <th>ILHA DE SANTA MARIA</th>\n",
       "      <th>ILHA DO BOI</th>\n",
       "      <th>ILHA DO FRADE</th>\n",
       "      <th>ILHA DO PRÍNCIPE</th>\n",
       "      <th>ILHAS OCEÂNICAS DE TRINDADE</th>\n",
       "      <th>INHANGUETÁ</th>\n",
       "      <th>ITARARÉ</th>\n",
       "      <th>JABOUR</th>\n",
       "      <th>JARDIM CAMBURI</th>\n",
       "      <th>JARDIM DA PENHA</th>\n",
       "      <th>JESUS DE NAZARETH</th>\n",
       "      <th>JOANA D´ARC</th>\n",
       "      <th>JUCUTUQUARA</th>\n",
       "      <th>MARIA ORTIZ</th>\n",
       "      <th>MARUÍPE</th>\n",
       "      <th>MATA DA PRAIA</th>\n",
       "      <th>MONTE BELO</th>\n",
       "      <th>MORADA DE CAMBURI</th>\n",
       "      <th>MÁRIO CYPRESTE</th>\n",
       "      <th>NAZARETH</th>\n",
       "      <th>NOVA PALESTINA</th>\n",
       "      <th>PARQUE INDUSTRIAL</th>\n",
       "      <th>PARQUE MOSCOSO</th>\n",
       "      <th>PIEDADE</th>\n",
       "      <th>PONTAL DE CAMBURI</th>\n",
       "      <th>PRAIA DO CANTO</th>\n",
       "      <th>PRAIA DO SUÁ</th>\n",
       "      <th>REDENÇÃO</th>\n",
       "      <th>REPÚBLICA</th>\n",
       "      <th>RESISTÊNCIA</th>\n",
       "      <th>ROMÃO</th>\n",
       "      <th>SANTA CECÍLIA</th>\n",
       "      <th>SANTA CLARA</th>\n",
       "      <th>SANTA HELENA</th>\n",
       "      <th>SANTA LUÍZA</th>\n",
       "      <th>SANTA LÚCIA</th>\n",
       "      <th>SANTA MARTHA</th>\n",
       "      <th>SANTA TEREZA</th>\n",
       "      <th>SANTO ANDRÉ</th>\n",
       "      <th>SANTO ANTÔNIO</th>\n",
       "      <th>SANTOS DUMONT</th>\n",
       "      <th>SANTOS REIS</th>\n",
       "      <th>SEGURANÇA DO LAR</th>\n",
       "      <th>SOLON BORGES</th>\n",
       "      <th>SÃO BENEDITO</th>\n",
       "      <th>SÃO CRISTÓVÃO</th>\n",
       "      <th>SÃO JOSÉ</th>\n",
       "      <th>SÃO PEDRO</th>\n",
       "      <th>TABUAZEIRO</th>\n",
       "      <th>UNIVERSITÁRIO</th>\n",
       "      <th>VILA RUBIM</th>\n",
       "    </tr>\n",
       "    <tr>\n",
       "      <th>Appointment</th>\n",
       "      <th></th>\n",
       "      <th></th>\n",
       "      <th></th>\n",
       "      <th></th>\n",
       "      <th></th>\n",
       "      <th></th>\n",
       "      <th></th>\n",
       "      <th></th>\n",
       "      <th></th>\n",
       "      <th></th>\n",
       "      <th></th>\n",
       "      <th></th>\n",
       "      <th></th>\n",
       "      <th></th>\n",
       "      <th></th>\n",
       "      <th></th>\n",
       "      <th></th>\n",
       "      <th></th>\n",
       "      <th></th>\n",
       "      <th></th>\n",
       "      <th></th>\n",
       "      <th></th>\n",
       "      <th></th>\n",
       "      <th></th>\n",
       "      <th></th>\n",
       "      <th></th>\n",
       "      <th></th>\n",
       "      <th></th>\n",
       "      <th></th>\n",
       "      <th></th>\n",
       "      <th></th>\n",
       "      <th></th>\n",
       "      <th></th>\n",
       "      <th></th>\n",
       "      <th></th>\n",
       "      <th></th>\n",
       "      <th></th>\n",
       "      <th></th>\n",
       "      <th></th>\n",
       "      <th></th>\n",
       "      <th></th>\n",
       "      <th></th>\n",
       "      <th></th>\n",
       "      <th></th>\n",
       "      <th></th>\n",
       "      <th></th>\n",
       "      <th></th>\n",
       "      <th></th>\n",
       "      <th></th>\n",
       "      <th></th>\n",
       "      <th></th>\n",
       "      <th></th>\n",
       "      <th></th>\n",
       "      <th></th>\n",
       "      <th></th>\n",
       "      <th></th>\n",
       "      <th></th>\n",
       "      <th></th>\n",
       "      <th></th>\n",
       "      <th></th>\n",
       "      <th></th>\n",
       "      <th></th>\n",
       "      <th></th>\n",
       "      <th></th>\n",
       "      <th></th>\n",
       "      <th></th>\n",
       "      <th></th>\n",
       "      <th></th>\n",
       "      <th></th>\n",
       "      <th></th>\n",
       "      <th></th>\n",
       "      <th></th>\n",
       "      <th></th>\n",
       "      <th></th>\n",
       "      <th></th>\n",
       "      <th></th>\n",
       "      <th></th>\n",
       "      <th></th>\n",
       "      <th></th>\n",
       "      <th></th>\n",
       "      <th></th>\n",
       "    </tr>\n",
       "  </thead>\n",
       "  <tbody>\n",
       "    <tr>\n",
       "      <th>Absconded</th>\n",
       "      <td>12.5</td>\n",
       "      <td>23.0</td>\n",
       "      <td>18.5</td>\n",
       "      <td>22.0</td>\n",
       "      <td>21.5</td>\n",
       "      <td>20.1</td>\n",
       "      <td>22.5</td>\n",
       "      <td>18.6</td>\n",
       "      <td>19.8</td>\n",
       "      <td>23.0</td>\n",
       "      <td>21.1</td>\n",
       "      <td>18.1</td>\n",
       "      <td>18.8</td>\n",
       "      <td>17.2</td>\n",
       "      <td>21.7</td>\n",
       "      <td>19.4</td>\n",
       "      <td>15.4</td>\n",
       "      <td>15.7</td>\n",
       "      <td>22.3</td>\n",
       "      <td>16.5</td>\n",
       "      <td>22.1</td>\n",
       "      <td>19.7</td>\n",
       "      <td>21.8</td>\n",
       "      <td>18.3</td>\n",
       "      <td>18.6</td>\n",
       "      <td>19.6</td>\n",
       "      <td>20.3</td>\n",
       "      <td>22.6</td>\n",
       "      <td>24.0</td>\n",
       "      <td>21.9</td>\n",
       "      <td>19.2</td>\n",
       "      <td>8.6</td>\n",
       "      <td>20.0</td>\n",
       "      <td>23.5</td>\n",
       "      <td>100.0</td>\n",
       "      <td>19.1</td>\n",
       "      <td>26.3</td>\n",
       "      <td>18.0</td>\n",
       "      <td>19.0</td>\n",
       "      <td>16.3</td>\n",
       "      <td>24.4</td>\n",
       "      <td>18.1</td>\n",
       "      <td>19.2</td>\n",
       "      <td>21.0</td>\n",
       "      <td>22.3</td>\n",
       "      <td>17.1</td>\n",
       "      <td>20.1</td>\n",
       "      <td>16.7</td>\n",
       "      <td>14.6</td>\n",
       "      <td>21.5</td>\n",
       "      <td>17.8</td>\n",
       "      <td>NaN</td>\n",
       "      <td>22.3</td>\n",
       "      <td>19.5</td>\n",
       "      <td>17.4</td>\n",
       "      <td>18.4</td>\n",
       "      <td>22.8</td>\n",
       "      <td>17.7</td>\n",
       "      <td>17.1</td>\n",
       "      <td>20.4</td>\n",
       "      <td>21.4</td>\n",
       "      <td>27.5</td>\n",
       "      <td>26.5</td>\n",
       "      <td>20.8</td>\n",
       "      <td>18.0</td>\n",
       "      <td>19.6</td>\n",
       "      <td>15.8</td>\n",
       "      <td>20.4</td>\n",
       "      <td>19.8</td>\n",
       "      <td>17.6</td>\n",
       "      <td>28.9</td>\n",
       "      <td>20.5</td>\n",
       "      <td>19.3</td>\n",
       "      <td>14.7</td>\n",
       "      <td>19.9</td>\n",
       "      <td>19.8</td>\n",
       "      <td>21.6</td>\n",
       "      <td>21.0</td>\n",
       "      <td>18.3</td>\n",
       "      <td>21.1</td>\n",
       "      <td>16.6</td>\n",
       "    </tr>\n",
       "    <tr>\n",
       "      <th>Visited</th>\n",
       "      <td>87.5</td>\n",
       "      <td>77.0</td>\n",
       "      <td>81.5</td>\n",
       "      <td>78.0</td>\n",
       "      <td>78.5</td>\n",
       "      <td>79.9</td>\n",
       "      <td>77.5</td>\n",
       "      <td>81.4</td>\n",
       "      <td>80.2</td>\n",
       "      <td>77.0</td>\n",
       "      <td>78.9</td>\n",
       "      <td>81.9</td>\n",
       "      <td>81.2</td>\n",
       "      <td>82.8</td>\n",
       "      <td>78.3</td>\n",
       "      <td>80.6</td>\n",
       "      <td>84.6</td>\n",
       "      <td>84.3</td>\n",
       "      <td>77.7</td>\n",
       "      <td>83.5</td>\n",
       "      <td>77.9</td>\n",
       "      <td>80.3</td>\n",
       "      <td>78.2</td>\n",
       "      <td>81.7</td>\n",
       "      <td>81.4</td>\n",
       "      <td>80.4</td>\n",
       "      <td>79.7</td>\n",
       "      <td>77.4</td>\n",
       "      <td>76.0</td>\n",
       "      <td>78.1</td>\n",
       "      <td>80.8</td>\n",
       "      <td>91.4</td>\n",
       "      <td>80.0</td>\n",
       "      <td>76.5</td>\n",
       "      <td>NaN</td>\n",
       "      <td>80.9</td>\n",
       "      <td>73.7</td>\n",
       "      <td>82.0</td>\n",
       "      <td>81.0</td>\n",
       "      <td>83.7</td>\n",
       "      <td>75.6</td>\n",
       "      <td>81.9</td>\n",
       "      <td>80.8</td>\n",
       "      <td>79.0</td>\n",
       "      <td>77.7</td>\n",
       "      <td>82.9</td>\n",
       "      <td>79.9</td>\n",
       "      <td>83.3</td>\n",
       "      <td>85.4</td>\n",
       "      <td>78.5</td>\n",
       "      <td>82.2</td>\n",
       "      <td>100.0</td>\n",
       "      <td>77.7</td>\n",
       "      <td>80.5</td>\n",
       "      <td>82.6</td>\n",
       "      <td>81.6</td>\n",
       "      <td>77.2</td>\n",
       "      <td>82.3</td>\n",
       "      <td>82.9</td>\n",
       "      <td>79.6</td>\n",
       "      <td>78.6</td>\n",
       "      <td>72.5</td>\n",
       "      <td>73.5</td>\n",
       "      <td>79.2</td>\n",
       "      <td>82.0</td>\n",
       "      <td>80.4</td>\n",
       "      <td>84.2</td>\n",
       "      <td>79.6</td>\n",
       "      <td>80.2</td>\n",
       "      <td>82.4</td>\n",
       "      <td>71.1</td>\n",
       "      <td>79.5</td>\n",
       "      <td>80.7</td>\n",
       "      <td>85.3</td>\n",
       "      <td>80.1</td>\n",
       "      <td>80.2</td>\n",
       "      <td>78.4</td>\n",
       "      <td>79.0</td>\n",
       "      <td>81.7</td>\n",
       "      <td>78.9</td>\n",
       "      <td>83.4</td>\n",
       "    </tr>\n",
       "  </tbody>\n",
       "</table>\n",
       "</div>"
      ],
      "text/plain": [
       "Neighbourhood  AEROPORTO  ANDORINHAS  ANTÔNIO HONÓRIO  ARIOVALDO FAVALESSA  \\\n",
       "Appointment                                                                  \n",
       "Absconded           12.5        23.0             18.5                 22.0   \n",
       "Visited             87.5        77.0             81.5                 78.0   \n",
       "\n",
       "Neighbourhood  BARRO VERMELHO  BELA VISTA  BENTO FERREIRA  BOA VISTA  BONFIM  \\\n",
       "Appointment                                                                    \n",
       "Absconded                21.5        20.1            22.5       18.6    19.8   \n",
       "Visited                  78.5        79.9            77.5       81.4    80.2   \n",
       "\n",
       "Neighbourhood  CARATOÍRA  CENTRO  COMDUSA  CONQUISTA  CONSOLAÇÃO  CRUZAMENTO  \\\n",
       "Appointment                                                                    \n",
       "Absconded           23.0    21.1     18.1       18.8        17.2        21.7   \n",
       "Visited             77.0    78.9     81.9       81.2        82.8        78.3   \n",
       "\n",
       "Neighbourhood  DA PENHA  DE LOURDES  DO CABRAL  DO MOSCOSO  DO QUADRO  \\\n",
       "Appointment                                                             \n",
       "Absconded          19.4        15.4       15.7        22.3       16.5   \n",
       "Visited            80.6        84.6       84.3        77.7       83.5   \n",
       "\n",
       "Neighbourhood  ENSEADA DO SUÁ  ESTRELINHA  FONTE GRANDE  FORTE SÃO JOÃO  \\\n",
       "Appointment                                                               \n",
       "Absconded                22.1        19.7          21.8            18.3   \n",
       "Visited                  77.9        80.3          78.2            81.7   \n",
       "\n",
       "Neighbourhood  FRADINHOS  GOIABEIRAS  GRANDE VITÓRIA  GURIGICA  HORTO  \\\n",
       "Appointment                                                             \n",
       "Absconded           18.6        19.6            20.3      22.6   24.0   \n",
       "Visited             81.4        80.4            79.7      77.4   76.0   \n",
       "\n",
       "Neighbourhood  ILHA DAS CAIEIRAS  ILHA DE SANTA MARIA  ILHA DO BOI  \\\n",
       "Appointment                                                          \n",
       "Absconded                   21.9                 19.2          8.6   \n",
       "Visited                     78.1                 80.8         91.4   \n",
       "\n",
       "Neighbourhood  ILHA DO FRADE  ILHA DO PRÍNCIPE  ILHAS OCEÂNICAS DE TRINDADE  \\\n",
       "Appointment                                                                   \n",
       "Absconded               20.0              23.5                        100.0   \n",
       "Visited                 80.0              76.5                          NaN   \n",
       "\n",
       "Neighbourhood  INHANGUETÁ  ITARARÉ  JABOUR  JARDIM CAMBURI  JARDIM DA PENHA  \\\n",
       "Appointment                                                                   \n",
       "Absconded            19.1     26.3    18.0            19.0             16.3   \n",
       "Visited              80.9     73.7    82.0            81.0             83.7   \n",
       "\n",
       "Neighbourhood  JESUS DE NAZARETH  JOANA D´ARC  JUCUTUQUARA  MARIA ORTIZ  \\\n",
       "Appointment                                                               \n",
       "Absconded                   24.4         18.1         19.2         21.0   \n",
       "Visited                     75.6         81.9         80.8         79.0   \n",
       "\n",
       "Neighbourhood  MARUÍPE  MATA DA PRAIA  MONTE BELO  MORADA DE CAMBURI  \\\n",
       "Appointment                                                            \n",
       "Absconded         22.3           17.1        20.1               16.7   \n",
       "Visited           77.7           82.9        79.9               83.3   \n",
       "\n",
       "Neighbourhood  MÁRIO CYPRESTE  NAZARETH  NOVA PALESTINA  PARQUE INDUSTRIAL  \\\n",
       "Appointment                                                                  \n",
       "Absconded                14.6      21.5            17.8                NaN   \n",
       "Visited                  85.4      78.5            82.2              100.0   \n",
       "\n",
       "Neighbourhood  PARQUE MOSCOSO  PIEDADE  PONTAL DE CAMBURI  PRAIA DO CANTO  \\\n",
       "Appointment                                                                 \n",
       "Absconded                22.3     19.5               17.4            18.4   \n",
       "Visited                  77.7     80.5               82.6            81.6   \n",
       "\n",
       "Neighbourhood  PRAIA DO SUÁ  REDENÇÃO  REPÚBLICA  RESISTÊNCIA  ROMÃO  \\\n",
       "Appointment                                                            \n",
       "Absconded              22.8      17.7       17.1         20.4   21.4   \n",
       "Visited                77.2      82.3       82.9         79.6   78.6   \n",
       "\n",
       "Neighbourhood  SANTA CECÍLIA  SANTA CLARA  SANTA HELENA  SANTA LUÍZA  \\\n",
       "Appointment                                                            \n",
       "Absconded               27.5         26.5          20.8         18.0   \n",
       "Visited                 72.5         73.5          79.2         82.0   \n",
       "\n",
       "Neighbourhood  SANTA LÚCIA  SANTA MARTHA  SANTA TEREZA  SANTO ANDRÉ  \\\n",
       "Appointment                                                           \n",
       "Absconded             19.6          15.8          20.4         19.8   \n",
       "Visited               80.4          84.2          79.6         80.2   \n",
       "\n",
       "Neighbourhood  SANTO ANTÔNIO  SANTOS DUMONT  SANTOS REIS  SEGURANÇA DO LAR  \\\n",
       "Appointment                                                                  \n",
       "Absconded               17.6           28.9         20.5              19.3   \n",
       "Visited                 82.4           71.1         79.5              80.7   \n",
       "\n",
       "Neighbourhood  SOLON BORGES  SÃO BENEDITO  SÃO CRISTÓVÃO  SÃO JOSÉ  SÃO PEDRO  \\\n",
       "Appointment                                                                     \n",
       "Absconded              14.7          19.9           19.8      21.6       21.0   \n",
       "Visited                85.3          80.1           80.2      78.4       79.0   \n",
       "\n",
       "Neighbourhood  TABUAZEIRO  UNIVERSITÁRIO  VILA RUBIM  \n",
       "Appointment                                           \n",
       "Absconded            18.3           21.1        16.6  \n",
       "Visited              81.7           78.9        83.4  "
      ]
     },
     "execution_count": 99,
     "metadata": {},
     "output_type": "execute_result"
    }
   ],
   "source": [
    "# calculate the percentage of patients that showed up and did not, by the location of the hospitals \n",
    "AllLocations = df.groupby(['Neighbourhood'])['Age'].count()\n",
    "LocPer = HospLocCounts/AllLocations*100\n",
    "LocPer.unstack().round(1).swapaxes('index','columns')"
   ]
  },
  {
   "cell_type": "code",
   "execution_count": 100,
   "metadata": {},
   "outputs": [
    {
     "data": {
      "image/png": "[encoded data removed]",
      "text/plain": [
       "<Figure size 1440x576 with 1 Axes>"
      ]
     },
     "metadata": {
      "needs_background": "light"
     },
     "output_type": "display_data"
    }
   ],
   "source": [
    "# plot a double bar chart showing those who showed up and absconded based on Hospital Location\n",
    "LocPer.unstack().plot(kind='bar', figsize=(20,8));\n",
    "\n",
    "# chart labels\n",
    "plt.xlabel('Hospital Location', fontsize=20);\n",
    "plt.ylabel('Percentage', fontsize=20)\n",
    "plt.title('Hospital Location and Showing Up for Appointments', fontsize=20);\n",
    "\n",
    "plt.show();"
   ]
  },
  {
   "cell_type": "markdown",
   "metadata": {},
   "source": [
    "> **Location result:** Only 2 patients schedule appointment with the hospital located at ILHAS OCEÂNICAS DE TRINDADE, and both (100%) did not show up, while at PARQUE INDUSTRIAL the only patient that scheduled an appointment showed up. At every other hospital over 70% of their patients showed up."
   ]
  },
  {
   "cell_type": "code",
   "execution_count": null,
   "metadata": {},
   "outputs": [],
   "source": []
  },
  {
   "cell_type": "markdown",
   "metadata": {},
   "source": [
    "### Question 7: Relationship between Bolsa Família program and showing up for apponitment?"
   ]
  },
  {
   "cell_type": "code",
   "execution_count": 101,
   "metadata": {},
   "outputs": [
    {
     "data": {
      "text/plain": [
       "Not Enrolled    90.2\n",
       "Enrolled         9.8\n",
       "Name: BolsaFamília, dtype: float64"
      ]
     },
     "execution_count": 101,
     "metadata": {},
     "output_type": "execute_result"
    }
   ],
   "source": [
    "#Determine the percentage of patients enrolled on the social wefare program\n",
    "PerEnrolled = df['BolsaFamília'].value_counts()/df['BolsaFamília'].count()*100\n",
    "PerEnrolled.round(1)"
   ]
  },
  {
   "cell_type": "code",
   "execution_count": 102,
   "metadata": {},
   "outputs": [
    {
     "data": {
      "text/html": [
       "<div>\n",
       "<style scoped>\n",
       "    .dataframe tbody tr th:only-of-type {\n",
       "        vertical-align: middle;\n",
       "    }\n",
       "\n",
       "    .dataframe tbody tr th {\n",
       "        vertical-align: top;\n",
       "    }\n",
       "\n",
       "    .dataframe thead th {\n",
       "        text-align: right;\n",
       "    }\n",
       "</style>\n",
       "<table border=\"1\" class=\"dataframe\">\n",
       "  <thead>\n",
       "    <tr style=\"text-align: right;\">\n",
       "      <th>Appointment</th>\n",
       "      <th>Absconded</th>\n",
       "      <th>Visited</th>\n",
       "    </tr>\n",
       "    <tr>\n",
       "      <th>BolsaFamília</th>\n",
       "      <th></th>\n",
       "      <th></th>\n",
       "    </tr>\n",
       "  </thead>\n",
       "  <tbody>\n",
       "    <tr>\n",
       "      <th>Enrolled</th>\n",
       "      <td>2578</td>\n",
       "      <td>8283</td>\n",
       "    </tr>\n",
       "    <tr>\n",
       "      <th>Not Enrolled</th>\n",
       "      <td>19741</td>\n",
       "      <td>79925</td>\n",
       "    </tr>\n",
       "  </tbody>\n",
       "</table>\n",
       "</div>"
      ],
      "text/plain": [
       "Appointment   Absconded  Visited\n",
       "BolsaFamília                    \n",
       "Enrolled           2578     8283\n",
       "Not Enrolled      19741    79925"
      ]
     },
     "execution_count": 102,
     "metadata": {},
     "output_type": "execute_result"
    }
   ],
   "source": [
    "# count of numbers of patients that showed up and did not, by the Bolsa Família program.\n",
    "BFCounts = df.groupby(['BolsaFamília', 'Appointment'])['Age'].count()\n",
    "BFCounts.unstack()"
   ]
  },
  {
   "cell_type": "code",
   "execution_count": 103,
   "metadata": {},
   "outputs": [
    {
     "data": {
      "text/html": [
       "<div>\n",
       "<style scoped>\n",
       "    .dataframe tbody tr th:only-of-type {\n",
       "        vertical-align: middle;\n",
       "    }\n",
       "\n",
       "    .dataframe tbody tr th {\n",
       "        vertical-align: top;\n",
       "    }\n",
       "\n",
       "    .dataframe thead th {\n",
       "        text-align: right;\n",
       "    }\n",
       "</style>\n",
       "<table border=\"1\" class=\"dataframe\">\n",
       "  <thead>\n",
       "    <tr style=\"text-align: right;\">\n",
       "      <th>Appointment</th>\n",
       "      <th>Absconded</th>\n",
       "      <th>Visited</th>\n",
       "    </tr>\n",
       "    <tr>\n",
       "      <th>BolsaFamília</th>\n",
       "      <th></th>\n",
       "      <th></th>\n",
       "    </tr>\n",
       "  </thead>\n",
       "  <tbody>\n",
       "    <tr>\n",
       "      <th>Enrolled</th>\n",
       "      <td>23.7</td>\n",
       "      <td>76.3</td>\n",
       "    </tr>\n",
       "    <tr>\n",
       "      <th>Not Enrolled</th>\n",
       "      <td>19.8</td>\n",
       "      <td>80.2</td>\n",
       "    </tr>\n",
       "  </tbody>\n",
       "</table>\n",
       "</div>"
      ],
      "text/plain": [
       "Appointment   Absconded  Visited\n",
       "BolsaFamília                    \n",
       "Enrolled           23.7     76.3\n",
       "Not Enrolled       19.8     80.2"
      ]
     },
     "execution_count": 103,
     "metadata": {},
     "output_type": "execute_result"
    }
   ],
   "source": [
    "# calculate the percentage of patients that showed up and did not, by the Bolsa Família program\n",
    "AllBF = df.groupby(['BolsaFamília'])['Age'].count()\n",
    "BFPercent = BFCounts/AllBF*100\n",
    "BFPercent.unstack().round(1)"
   ]
  },
  {
   "cell_type": "markdown",
   "metadata": {},
   "source": [
    "> **Bolsa Família Report:** Over 90% of all the patients did not enroll on the Bolsa Família program and among 9.8% that enrolled, only about 76.3% showed up for their appointments as compared to over 80% show up among those not enrolled."
   ]
  },
  {
   "cell_type": "code",
   "execution_count": null,
   "metadata": {},
   "outputs": [],
   "source": []
  },
  {
   "cell_type": "markdown",
   "metadata": {},
   "source": [
    "### Question 8: Relationship between disease and showing up for apponitment"
   ]
  },
  {
   "cell_type": "code",
   "execution_count": 104,
   "metadata": {},
   "outputs": [
    {
     "data": {
      "text/plain": [
       "Not HTN    80.3\n",
       "HTN        19.7\n",
       "Name: Hypertension, dtype: float64"
      ]
     },
     "execution_count": 104,
     "metadata": {},
     "output_type": "execute_result"
    }
   ],
   "source": [
    "# Percentage of patients with hypertension\n",
    "PerHTN = df['Hypertension'].value_counts()/df['Hypertension'].count()*100\n",
    "PerHTN.round(1)"
   ]
  },
  {
   "cell_type": "code",
   "execution_count": 105,
   "metadata": {},
   "outputs": [
    {
     "data": {
      "text/plain": [
       "Hypertension  Appointment\n",
       "HTN           Absconded      17.3\n",
       "              Visited        82.7\n",
       "Name: Age, dtype: float64"
      ]
     },
     "execution_count": 105,
     "metadata": {},
     "output_type": "execute_result"
    }
   ],
   "source": [
    "# Percentage of hypetensive patients that showed up for their appointment\n",
    "PerHTNPts = df.groupby(['Hypertension', 'Appointment'])['Age'].count()/df.groupby(['Hypertension'])['Age'].count()*100\n",
    "\n",
    "# slice out only patients with hypertension \n",
    "HTNPts = PerHTNPts[0:2]\n",
    "HTNPts.round(1)"
   ]
  },
  {
   "cell_type": "code",
   "execution_count": 106,
   "metadata": {},
   "outputs": [
    {
     "data": {
      "text/plain": [
       "Not DM    92.8\n",
       "DM         7.2\n",
       "Name: Diabetes, dtype: float64"
      ]
     },
     "execution_count": 106,
     "metadata": {},
     "output_type": "execute_result"
    }
   ],
   "source": [
    "# Percentage of patients with Diabetes\n",
    "PerDM = df['Diabetes'].value_counts()/df['Diabetes'].count()*100\n",
    "PerDM.round(1)"
   ]
  },
  {
   "cell_type": "code",
   "execution_count": 107,
   "metadata": {},
   "outputs": [
    {
     "data": {
      "text/plain": [
       "Diabetes  Appointment\n",
       "DM        Absconded      18.0\n",
       "          Visited        82.0\n",
       "Name: Age, dtype: float64"
      ]
     },
     "execution_count": 107,
     "metadata": {},
     "output_type": "execute_result"
    }
   ],
   "source": [
    "# Percentage of diabetes patients that showed up for their appointment\n",
    "PerDMPts = df.groupby(['Diabetes', 'Appointment'])['Age'].count()/df.groupby(['Diabetes'])['Age'].count()*100\n",
    "\n",
    "# slice out only patients with diabetes \n",
    "DMPts = PerDMPts[0:2]\n",
    "DMPts.round(1)"
   ]
  },
  {
   "cell_type": "code",
   "execution_count": 108,
   "metadata": {},
   "outputs": [
    {
     "data": {
      "text/plain": [
       "Not Alcoholic    97.0\n",
       "Alcoholic         3.0\n",
       "Name: Alcoholism, dtype: float64"
      ]
     },
     "execution_count": 108,
     "metadata": {},
     "output_type": "execute_result"
    }
   ],
   "source": [
    "# Percentage of alcoholics\n",
    "PerAlcoholics = df['Alcoholism'].value_counts()/df['Alcoholism'].count()*100\n",
    "PerAlcoholics.round(1)"
   ]
  },
  {
   "cell_type": "code",
   "execution_count": 109,
   "metadata": {},
   "outputs": [
    {
     "data": {
      "text/plain": [
       "Alcoholism  Appointment\n",
       "Alcoholic   Absconded      20.1\n",
       "            Visited        79.9\n",
       "Name: Age, dtype: float64"
      ]
     },
     "execution_count": 109,
     "metadata": {},
     "output_type": "execute_result"
    }
   ],
   "source": [
    "# Percentage of alcoholics that showed up for their appointment\n",
    "PerAlcoholicPts = df.groupby(['Alcoholism', 'Appointment'])['Age'].count()/df.groupby(['Alcoholism'])['Age'].count()*100\n",
    "\n",
    "# slice out only alcoholics\n",
    "AlcoholicPts = PerAlcoholicPts[0:2]\n",
    "AlcoholicPts.round(1)"
   ]
  },
  {
   "cell_type": "markdown",
   "metadata": {},
   "source": [
    "#### Create a single table showing all the medical conditions"
   ]
  },
  {
   "cell_type": "code",
   "execution_count": 110,
   "metadata": {},
   "outputs": [
    {
     "data": {
      "text/html": [
       "<div>\n",
       "<style scoped>\n",
       "    .dataframe tbody tr th:only-of-type {\n",
       "        vertical-align: middle;\n",
       "    }\n",
       "\n",
       "    .dataframe tbody tr th {\n",
       "        vertical-align: top;\n",
       "    }\n",
       "\n",
       "    .dataframe thead th {\n",
       "        text-align: right;\n",
       "    }\n",
       "</style>\n",
       "<table border=\"1\" class=\"dataframe\">\n",
       "  <thead>\n",
       "    <tr style=\"text-align: right;\">\n",
       "      <th>Appointment</th>\n",
       "      <th>Absconded</th>\n",
       "      <th>Visited</th>\n",
       "    </tr>\n",
       "    <tr>\n",
       "      <th>Medical Conditions</th>\n",
       "      <th></th>\n",
       "      <th></th>\n",
       "    </tr>\n",
       "  </thead>\n",
       "  <tbody>\n",
       "    <tr>\n",
       "      <th>Alcoholic</th>\n",
       "      <td>20.1</td>\n",
       "      <td>79.9</td>\n",
       "    </tr>\n",
       "    <tr>\n",
       "      <th>DM</th>\n",
       "      <td>18.0</td>\n",
       "      <td>82.0</td>\n",
       "    </tr>\n",
       "    <tr>\n",
       "      <th>HTN</th>\n",
       "      <td>17.3</td>\n",
       "      <td>82.7</td>\n",
       "    </tr>\n",
       "  </tbody>\n",
       "</table>\n",
       "</div>"
      ],
      "text/plain": [
       "Appointment         Absconded  Visited\n",
       "Medical Conditions                    \n",
       "Alcoholic                20.1     79.9\n",
       "DM                       18.0     82.0\n",
       "HTN                      17.3     82.7"
      ]
     },
     "execution_count": 110,
     "metadata": {},
     "output_type": "execute_result"
    }
   ],
   "source": [
    "# Make the index of all the medical conditions same\n",
    "HTNPts.index.rename(['Medical Conditions', 'Appointment'], inplace=True)\n",
    "DMPts.index.rename(['Medical Conditions', 'Appointment'], inplace=True)\n",
    "AlcoholicPts.index.rename(['Medical Conditions', 'Appointment'], inplace=True)\n",
    "\n",
    "# Merge all the conditions\n",
    "AllDx = HTNPts.append(DMPts).append(AlcoholicPts).round(1)\n",
    "AllDx.unstack()"
   ]
  },
  {
   "cell_type": "markdown",
   "metadata": {},
   "source": [
    "> **Medical conditions report:** The percentage of patients who were hypertensive, diabeteics and alcoholics were 19.7%, 7.2% and 3% respectively. Over 79% of patients with any of these conditions showed up for their appointments."
   ]
  },
  {
   "cell_type": "code",
   "execution_count": null,
   "metadata": {},
   "outputs": [],
   "source": []
  },
  {
   "cell_type": "markdown",
   "metadata": {},
   "source": [
    "### Question 9: Relationship between recieving sms and showing up for apponitment"
   ]
  },
  {
   "cell_type": "code",
   "execution_count": 111,
   "metadata": {},
   "outputs": [
    {
     "data": {
      "text/plain": [
       "Not Received    67.9\n",
       "Received        32.1\n",
       "Name: SMS, dtype: float64"
      ]
     },
     "execution_count": 111,
     "metadata": {},
     "output_type": "execute_result"
    }
   ],
   "source": [
    "# Percentage of all patients that received SMS\n",
    "PerSMS = df['SMS'].value_counts()/df['SMS'].count()*100\n",
    "PerSMS.round(1)"
   ]
  },
  {
   "cell_type": "code",
   "execution_count": 112,
   "metadata": {},
   "outputs": [
    {
     "data": {
      "text/html": [
       "<div>\n",
       "<style scoped>\n",
       "    .dataframe tbody tr th:only-of-type {\n",
       "        vertical-align: middle;\n",
       "    }\n",
       "\n",
       "    .dataframe tbody tr th {\n",
       "        vertical-align: top;\n",
       "    }\n",
       "\n",
       "    .dataframe thead th {\n",
       "        text-align: right;\n",
       "    }\n",
       "</style>\n",
       "<table border=\"1\" class=\"dataframe\">\n",
       "  <thead>\n",
       "    <tr style=\"text-align: right;\">\n",
       "      <th>Appointment</th>\n",
       "      <th>Absconded</th>\n",
       "      <th>Visited</th>\n",
       "    </tr>\n",
       "    <tr>\n",
       "      <th>SMS</th>\n",
       "      <th></th>\n",
       "      <th></th>\n",
       "    </tr>\n",
       "  </thead>\n",
       "  <tbody>\n",
       "    <tr>\n",
       "      <th>Not Received</th>\n",
       "      <td>16.7</td>\n",
       "      <td>83.3</td>\n",
       "    </tr>\n",
       "    <tr>\n",
       "      <th>Received</th>\n",
       "      <td>27.6</td>\n",
       "      <td>72.4</td>\n",
       "    </tr>\n",
       "  </tbody>\n",
       "</table>\n",
       "</div>"
      ],
      "text/plain": [
       "Appointment   Absconded  Visited\n",
       "SMS                             \n",
       "Not Received       16.7     83.3\n",
       "Received           27.6     72.4"
      ]
     },
     "execution_count": 112,
     "metadata": {},
     "output_type": "execute_result"
    }
   ],
   "source": [
    "# Percentage of all patients that received SMS and showed up\n",
    "PerSMSPts = df.groupby(['SMS', 'Appointment'])['Age'].count()/df.groupby(['SMS'])['Age'].count()*100\n",
    "PerSMSPts.unstack().round(1)"
   ]
  },
  {
   "cell_type": "code",
   "execution_count": 113,
   "metadata": {},
   "outputs": [
    {
     "data": {
      "image/png": "[encoded data removed]",
      "text/plain": [
       "<Figure size 576x576 with 1 Axes>"
      ]
     },
     "metadata": {
      "needs_background": "light"
     },
     "output_type": "display_data"
    }
   ],
   "source": [
    "# Bar chart for SMS and showing up for Appointment\n",
    "PerSMSPts.unstack().plot(kind='bar', figsize=(8,8));\n",
    "\n",
    "#chart labels\n",
    "plt.xlabel('SMS', fontsize=15);\n",
    "plt.ylabel('Percentage', fontsize=15)\n",
    "plt.title('SMS and Showing up for Appointment', fontsize=13);\n",
    "location = [0,1]\n",
    "labels = ['Not Received', 'Received']\n",
    "plt.xticks(location, labels, rotation=0)\n",
    "\n",
    "plt.show();"
   ]
  },
  {
   "cell_type": "markdown",
   "metadata": {},
   "source": [
    "> **SMS Report** Only about 32% of patients received SMS. Over 83% of those who did not receive the SMS showed up for their appointment as compared to 72.4% among those that received the SMS."
   ]
  },
  {
   "cell_type": "code",
   "execution_count": null,
   "metadata": {},
   "outputs": [],
   "source": []
  },
  {
   "cell_type": "markdown",
   "metadata": {},
   "source": [
    "<a id='conclusions'></a>\n",
    "## Conclusions\n",
    "\n",
    ">**Summary:**\n",
    "    <ul>\n",
    "        <li>Most of the patients, 79.8%, showed up for their medical appointments</li>\n",
    "        <li>Patients above 100 years of age are less likely to show up at the hospital</li>\n",
    "        <li>Most of the patients are females, 65%. But there is no much difference between the pecerntage that show up per gender, 79.7% for females and 80% for males</li>\n",
    "        <li>Majority of patients, 95%, whose appointment day was scheduled that same day they were to visit the doctor, showed up for the appointment</li>\n",
    "        <li>All the hospitals, except for one located at ILHAS OCEÂNICAS DE TRINDADE, have a high patients' show up rate, over 70%</li>\n",
    "        <li>Only a small percentage of the patients, 9.8%, are enrolled on the  Bolsa Família program, and these patients are less likely to show up for their appointment compared to those not enrolled</li>\n",
    "        <li>Hypertension is the most common of the three medical condition (about 20%), while alcoholism is the least common (3%). Majority of the patients, about 80%,  with any of the disease condition showed up.</li>\n",
    "        <li>Though only a small percentage of patients, about 32%, received SMS. It is probably not the best way to remind patients of their scheduled appointment.</li>\n",
    "    </ul>\n",
    "\n",
    "> **Limitations:**\n",
    "    <ul>\n",
    "         <li>some of the Neighbourhoods have very few data, this makes comparism with others difficult.</li>\n",
    "         <li>There is no information on why some patients did not receive the SMS, whether it was or not sent by the hospitals.</li>\n",
    "         <li>Only few diseases were represented in the data.</li>\n",
    "         <li>No information as to why patients do not enroll on the financial aid (Bolsa Família program), and why those who enrolled are less likely to show up.</li>\n",
    "    </ul>\n",
    "\n",
    "> **Recommedations:**\n",
    "    <ul>\n",
    "        <li>Hospitals Should be impoved to the stage where they can attend to patients the same day they schedule the appointment, as patients are more likely to show up this period.</li>\n",
    "        <li>Home care should be organized for those above 100 years, as the are less likely to visit the hospital.</li>\n",
    "        <li>The financial aid program (Bolsa Família) should be evaluated, because it might not be contributing to the betterment of health status of the good people of Brazil.</li>\n",
    "        <li>Other methods of communication like phone calls, should be exlored instead of SMS</li>\n",
    "    </ul>"
   ]
  },
  {
   "cell_type": "code",
   "execution_count": null,
   "metadata": {},
   "outputs": [],
   "source": []
  }
 ],
 "metadata": {
  "kernelspec": {
   "display_name": "Python 3 (ipykernel)",
   "language": "python",
   "name": "python3"
  },
  "language_info": {
   "codemirror_mode": {
    "name": "ipython",
    "version": 3
   },
   "file_extension": ".py",
   "mimetype": "text/x-python",
   "name": "python",
   "nbconvert_exporter": "python",
   "pygments_lexer": "ipython3",
   "version": "3.7.13"
  }
 },
 "nbformat": 4,
 "nbformat_minor": 2
}
